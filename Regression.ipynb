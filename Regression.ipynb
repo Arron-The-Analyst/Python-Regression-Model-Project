{
 "cells": [
  {
   "cell_type": "markdown",
   "id": "2478d736",
   "metadata": {},
   "source": [
    "# Introduction to Deep Learning and Neural Networks Final Project"
   ]
  },
  {
   "cell_type": "markdown",
   "id": "86f7be2d",
   "metadata": {},
   "source": [
    "## Welcome to the notebook for the Introduction to Deep Learning and Neural Networks final course, below you can view the code we created for our project."
   ]
  },
  {
   "cell_type": "markdown",
   "id": "3606b0e9",
   "metadata": {},
   "source": [
    "### Firstly, Let's clean, normalize, and import our dataset."
   ]
  },
  {
   "cell_type": "code",
   "execution_count": 1,
   "id": "2e8ba5be-26de-4edb-a96d-392a3c116599",
   "metadata": {},
   "outputs": [],
   "source": [
    "# First step, install the relevant libraries which we will need to build our regression models with.\n",
    "import pandas as pd\n",
    "import numpy as np\n",
    "import keras\n",
    "import math\n",
    "from keras.models import Sequential\n",
    "from keras.layers import Dense\n",
    "from sklearn.model_selection import train_test_split\n",
    "from sklearn.metrics import mean_squared_error"
   ]
  },
  {
   "cell_type": "code",
   "execution_count": 2,
   "id": "9a8def01-d846-4e5e-93b7-b9d964030a81",
   "metadata": {},
   "outputs": [
    {
     "data": {
      "text/html": [
       "<div>\n",
       "<style scoped>\n",
       "    .dataframe tbody tr th:only-of-type {\n",
       "        vertical-align: middle;\n",
       "    }\n",
       "\n",
       "    .dataframe tbody tr th {\n",
       "        vertical-align: top;\n",
       "    }\n",
       "\n",
       "    .dataframe thead th {\n",
       "        text-align: right;\n",
       "    }\n",
       "</style>\n",
       "<table border=\"1\" class=\"dataframe\">\n",
       "  <thead>\n",
       "    <tr style=\"text-align: right;\">\n",
       "      <th></th>\n",
       "      <th>Cement</th>\n",
       "      <th>Blast Furnace Slag</th>\n",
       "      <th>Fly Ash</th>\n",
       "      <th>Water</th>\n",
       "      <th>Superplasticizer</th>\n",
       "      <th>Coarse Aggregate</th>\n",
       "      <th>Fine Aggregate</th>\n",
       "      <th>Age</th>\n",
       "      <th>Strength</th>\n",
       "    </tr>\n",
       "  </thead>\n",
       "  <tbody>\n",
       "    <tr>\n",
       "      <th>0</th>\n",
       "      <td>540.0</td>\n",
       "      <td>0.0</td>\n",
       "      <td>0.0</td>\n",
       "      <td>162.0</td>\n",
       "      <td>2.5</td>\n",
       "      <td>1040.0</td>\n",
       "      <td>676.0</td>\n",
       "      <td>28</td>\n",
       "      <td>79.99</td>\n",
       "    </tr>\n",
       "    <tr>\n",
       "      <th>1</th>\n",
       "      <td>540.0</td>\n",
       "      <td>0.0</td>\n",
       "      <td>0.0</td>\n",
       "      <td>162.0</td>\n",
       "      <td>2.5</td>\n",
       "      <td>1055.0</td>\n",
       "      <td>676.0</td>\n",
       "      <td>28</td>\n",
       "      <td>61.89</td>\n",
       "    </tr>\n",
       "    <tr>\n",
       "      <th>2</th>\n",
       "      <td>332.5</td>\n",
       "      <td>142.5</td>\n",
       "      <td>0.0</td>\n",
       "      <td>228.0</td>\n",
       "      <td>0.0</td>\n",
       "      <td>932.0</td>\n",
       "      <td>594.0</td>\n",
       "      <td>270</td>\n",
       "      <td>40.27</td>\n",
       "    </tr>\n",
       "    <tr>\n",
       "      <th>3</th>\n",
       "      <td>332.5</td>\n",
       "      <td>142.5</td>\n",
       "      <td>0.0</td>\n",
       "      <td>228.0</td>\n",
       "      <td>0.0</td>\n",
       "      <td>932.0</td>\n",
       "      <td>594.0</td>\n",
       "      <td>365</td>\n",
       "      <td>41.05</td>\n",
       "    </tr>\n",
       "    <tr>\n",
       "      <th>4</th>\n",
       "      <td>198.6</td>\n",
       "      <td>132.4</td>\n",
       "      <td>0.0</td>\n",
       "      <td>192.0</td>\n",
       "      <td>0.0</td>\n",
       "      <td>978.4</td>\n",
       "      <td>825.5</td>\n",
       "      <td>360</td>\n",
       "      <td>44.30</td>\n",
       "    </tr>\n",
       "  </tbody>\n",
       "</table>\n",
       "</div>"
      ],
      "text/plain": [
       "   Cement  Blast Furnace Slag  Fly Ash  Water  Superplasticizer  \\\n",
       "0   540.0                 0.0      0.0  162.0               2.5   \n",
       "1   540.0                 0.0      0.0  162.0               2.5   \n",
       "2   332.5               142.5      0.0  228.0               0.0   \n",
       "3   332.5               142.5      0.0  228.0               0.0   \n",
       "4   198.6               132.4      0.0  192.0               0.0   \n",
       "\n",
       "   Coarse Aggregate  Fine Aggregate  Age  Strength  \n",
       "0            1040.0           676.0   28     79.99  \n",
       "1            1055.0           676.0   28     61.89  \n",
       "2             932.0           594.0  270     40.27  \n",
       "3             932.0           594.0  365     41.05  \n",
       "4             978.4           825.5  360     44.30  "
      ]
     },
     "execution_count": 2,
     "metadata": {},
     "output_type": "execute_result"
    }
   ],
   "source": [
    "# Let's next download the data that we will be using to create our regression model with.\n",
    "concrete_data = pd.read_csv('https://s3-api.us-geo.objectstorage.softlayer.net/cf-courses-data/CognitiveClass/DL0101EN/labs/data/concrete_data.csv')\n",
    "concrete_data.head()"
   ]
  },
  {
   "cell_type": "code",
   "execution_count": 3,
   "id": "0faf876e",
   "metadata": {},
   "outputs": [
    {
     "data": {
      "text/plain": [
       "(1030, 9)"
      ]
     },
     "execution_count": 3,
     "metadata": {},
     "output_type": "execute_result"
    }
   ],
   "source": [
    "# Let's next use our shape function to check the size of our concrete dataset.\n",
    "concrete_data.shape"
   ]
  },
  {
   "cell_type": "code",
   "execution_count": 4,
   "id": "034a95d6",
   "metadata": {},
   "outputs": [
    {
     "data": {
      "text/plain": [
       "Cement                0\n",
       "Blast Furnace Slag    0\n",
       "Fly Ash               0\n",
       "Water                 0\n",
       "Superplasticizer      0\n",
       "Coarse Aggregate      0\n",
       "Fine Aggregate        0\n",
       "Age                   0\n",
       "Strength              0\n",
       "dtype: int64"
      ]
     },
     "execution_count": 4,
     "metadata": {},
     "output_type": "execute_result"
    }
   ],
   "source": [
    "# Let's also check if our dataset is missing any values.\n",
    "concrete_data.describe()\n",
    "concrete_data.isnull().sum()"
   ]
  },
  {
   "cell_type": "code",
   "execution_count": 5,
   "id": "18687aa8",
   "metadata": {},
   "outputs": [],
   "source": [
    "# As our dataset is clean, let's now split our data into our predicting values and our target value. \n",
    "# We are predictiong concrete strength based on the characteristics of other features.\n",
    "concrete_data_columns = concrete_data.columns\n",
    "\n",
    "predictors = concrete_data[concrete_data_columns[concrete_data_columns != 'Strength']] \n",
    "target = concrete_data['Strength'] "
   ]
  },
  {
   "cell_type": "code",
   "execution_count": 6,
   "id": "fe794831",
   "metadata": {},
   "outputs": [
    {
     "data": {
      "text/html": [
       "<div>\n",
       "<style scoped>\n",
       "    .dataframe tbody tr th:only-of-type {\n",
       "        vertical-align: middle;\n",
       "    }\n",
       "\n",
       "    .dataframe tbody tr th {\n",
       "        vertical-align: top;\n",
       "    }\n",
       "\n",
       "    .dataframe thead th {\n",
       "        text-align: right;\n",
       "    }\n",
       "</style>\n",
       "<table border=\"1\" class=\"dataframe\">\n",
       "  <thead>\n",
       "    <tr style=\"text-align: right;\">\n",
       "      <th></th>\n",
       "      <th>Cement</th>\n",
       "      <th>Blast Furnace Slag</th>\n",
       "      <th>Fly Ash</th>\n",
       "      <th>Water</th>\n",
       "      <th>Superplasticizer</th>\n",
       "      <th>Coarse Aggregate</th>\n",
       "      <th>Fine Aggregate</th>\n",
       "      <th>Age</th>\n",
       "    </tr>\n",
       "  </thead>\n",
       "  <tbody>\n",
       "    <tr>\n",
       "      <th>0</th>\n",
       "      <td>540.0</td>\n",
       "      <td>0.0</td>\n",
       "      <td>0.0</td>\n",
       "      <td>162.0</td>\n",
       "      <td>2.5</td>\n",
       "      <td>1040.0</td>\n",
       "      <td>676.0</td>\n",
       "      <td>28</td>\n",
       "    </tr>\n",
       "    <tr>\n",
       "      <th>1</th>\n",
       "      <td>540.0</td>\n",
       "      <td>0.0</td>\n",
       "      <td>0.0</td>\n",
       "      <td>162.0</td>\n",
       "      <td>2.5</td>\n",
       "      <td>1055.0</td>\n",
       "      <td>676.0</td>\n",
       "      <td>28</td>\n",
       "    </tr>\n",
       "    <tr>\n",
       "      <th>2</th>\n",
       "      <td>332.5</td>\n",
       "      <td>142.5</td>\n",
       "      <td>0.0</td>\n",
       "      <td>228.0</td>\n",
       "      <td>0.0</td>\n",
       "      <td>932.0</td>\n",
       "      <td>594.0</td>\n",
       "      <td>270</td>\n",
       "    </tr>\n",
       "    <tr>\n",
       "      <th>3</th>\n",
       "      <td>332.5</td>\n",
       "      <td>142.5</td>\n",
       "      <td>0.0</td>\n",
       "      <td>228.0</td>\n",
       "      <td>0.0</td>\n",
       "      <td>932.0</td>\n",
       "      <td>594.0</td>\n",
       "      <td>365</td>\n",
       "    </tr>\n",
       "    <tr>\n",
       "      <th>4</th>\n",
       "      <td>198.6</td>\n",
       "      <td>132.4</td>\n",
       "      <td>0.0</td>\n",
       "      <td>192.0</td>\n",
       "      <td>0.0</td>\n",
       "      <td>978.4</td>\n",
       "      <td>825.5</td>\n",
       "      <td>360</td>\n",
       "    </tr>\n",
       "  </tbody>\n",
       "</table>\n",
       "</div>"
      ],
      "text/plain": [
       "   Cement  Blast Furnace Slag  Fly Ash  Water  Superplasticizer  \\\n",
       "0   540.0                 0.0      0.0  162.0               2.5   \n",
       "1   540.0                 0.0      0.0  162.0               2.5   \n",
       "2   332.5               142.5      0.0  228.0               0.0   \n",
       "3   332.5               142.5      0.0  228.0               0.0   \n",
       "4   198.6               132.4      0.0  192.0               0.0   \n",
       "\n",
       "   Coarse Aggregate  Fine Aggregate  Age  \n",
       "0            1040.0           676.0   28  \n",
       "1            1055.0           676.0   28  \n",
       "2             932.0           594.0  270  \n",
       "3             932.0           594.0  365  \n",
       "4             978.4           825.5  360  "
      ]
     },
     "execution_count": 6,
     "metadata": {},
     "output_type": "execute_result"
    }
   ],
   "source": [
    "# Let's double check the predictors and target columns heads.\n",
    "predictors.head()"
   ]
  },
  {
   "cell_type": "code",
   "execution_count": 7,
   "id": "b65389d1",
   "metadata": {},
   "outputs": [
    {
     "data": {
      "text/plain": [
       "0    79.99\n",
       "1    61.89\n",
       "2    40.27\n",
       "3    41.05\n",
       "4    44.30\n",
       "Name: Strength, dtype: float64"
      ]
     },
     "execution_count": 7,
     "metadata": {},
     "output_type": "execute_result"
    }
   ],
   "source": [
    "target.head()"
   ]
  },
  {
   "cell_type": "markdown",
   "id": "80fe9fb4",
   "metadata": {},
   "source": [
    "### Task A: Build our Baseline Model"
   ]
  },
  {
   "cell_type": "code",
   "execution_count": 8,
   "id": "b4abd71d",
   "metadata": {},
   "outputs": [],
   "source": [
    "# Firstly, let's randomly split the data into a training and test sets by holding 30% of the data for testing\n",
    "predictors_train, predictors_test, target_train, target_test = train_test_split(predictors, target, test_size=0.3)"
   ]
  },
  {
   "cell_type": "code",
   "execution_count": 9,
   "id": "3bf0923a",
   "metadata": {},
   "outputs": [],
   "source": [
    "# Let's define our regression model using the Keras library to build our neural network with one hidden layer of 10 nodes\n",
    "# and a ReLU activation function. We will also use the adam optimizer and the mean squared error as the loss function.\n",
    "\n",
    "def regression_model():\n",
    "    \n",
    "    # create the model\n",
    "    model = Sequential()\n",
    "    model.add(Dense(10, activation='relu', input_shape=(1030, 8)))\n",
    "    model.add(Dense(1))\n",
    "    \n",
    "    # compile the model\n",
    "    model.compile(optimizer='adam', loss='mean_squared_error')\n",
    "    return model"
   ]
  },
  {
   "cell_type": "code",
   "execution_count": 10,
   "id": "162c04c6",
   "metadata": {},
   "outputs": [],
   "source": [
    "# We then build the model\n",
    "model = regression_model()"
   ]
  },
  {
   "cell_type": "code",
   "execution_count": 11,
   "id": "43875742",
   "metadata": {},
   "outputs": [
    {
     "name": "stdout",
     "output_type": "stream",
     "text": [
      "WARNING:tensorflow:Model was constructed with shape (None, 1030, 8) for input KerasTensor(type_spec=TensorSpec(shape=(None, 1030, 8), dtype=tf.float32, name='dense_input'), name='dense_input', description=\"created by layer 'dense_input'\"), but it was called on an input with incompatible shape (None, 8).\n",
      "WARNING:tensorflow:Model was constructed with shape (None, 1030, 8) for input KerasTensor(type_spec=TensorSpec(shape=(None, 1030, 8), dtype=tf.float32, name='dense_input'), name='dense_input', description=\"created by layer 'dense_input'\"), but it was called on an input with incompatible shape (None, 8).\n",
      "WARNING:tensorflow:Model was constructed with shape (None, 1030, 8) for input KerasTensor(type_spec=TensorSpec(shape=(None, 1030, 8), dtype=tf.float32, name='dense_input'), name='dense_input', description=\"created by layer 'dense_input'\"), but it was called on an input with incompatible shape (None, 8).\n"
     ]
    },
    {
     "data": {
      "text/plain": [
       "<keras.callbacks.History at 0x2a3ad775220>"
      ]
     },
     "execution_count": 11,
     "metadata": {},
     "output_type": "execute_result"
    }
   ],
   "source": [
    "# And fit the model to our dataset\n",
    "model.fit(predictors_train, target_train, validation_data=(predictors_test, target_test), epochs=50, verbose=0)"
   ]
  },
  {
   "cell_type": "code",
   "execution_count": 12,
   "id": "00fbd9fd",
   "metadata": {},
   "outputs": [
    {
     "name": "stdout",
     "output_type": "stream",
     "text": [
      "WARNING:tensorflow:Model was constructed with shape (None, 1030, 8) for input KerasTensor(type_spec=TensorSpec(shape=(None, 1030, 8), dtype=tf.float32, name='dense_input'), name='dense_input', description=\"created by layer 'dense_input'\"), but it was called on an input with incompatible shape (None, 8).\n"
     ]
    }
   ],
   "source": [
    "# We can then get our models predictions.\n",
    "predictions = model.predict(predictors_test)"
   ]
  },
  {
   "cell_type": "code",
   "execution_count": 13,
   "id": "ee937e96",
   "metadata": {},
   "outputs": [
    {
     "name": "stdout",
     "output_type": "stream",
     "text": [
      "MSE 218.627633096983\n"
     ]
    }
   ],
   "source": [
    "# And use these to evaluate the model on our test data.\n",
    "# Which can be done by computing the mean squared error between the predicted concrete strength and the actual concrete strength.\n",
    "print(\"MSE\",mean_squared_error(target_test,predictions))"
   ]
  },
  {
   "cell_type": "code",
   "execution_count": 14,
   "id": "cba34e7c",
   "metadata": {},
   "outputs": [
    {
     "name": "stdout",
     "output_type": "stream",
     "text": [
      "WARNING:tensorflow:Model was constructed with shape (None, 1030, 8) for input KerasTensor(type_spec=TensorSpec(shape=(None, 1030, 8), dtype=tf.float32, name='dense_2_input'), name='dense_2_input', description=\"created by layer 'dense_2_input'\"), but it was called on an input with incompatible shape (None, 8).\n",
      "WARNING:tensorflow:Model was constructed with shape (None, 1030, 8) for input KerasTensor(type_spec=TensorSpec(shape=(None, 1030, 8), dtype=tf.float32, name='dense_2_input'), name='dense_2_input', description=\"created by layer 'dense_2_input'\"), but it was called on an input with incompatible shape (None, 8).\n",
      "WARNING:tensorflow:Model was constructed with shape (None, 1030, 8) for input KerasTensor(type_spec=TensorSpec(shape=(None, 1030, 8), dtype=tf.float32, name='dense_2_input'), name='dense_2_input', description=\"created by layer 'dense_2_input'\"), but it was called on an input with incompatible shape (None, 8).\n",
      "WARNING:tensorflow:Model was constructed with shape (None, 1030, 8) for input KerasTensor(type_spec=TensorSpec(shape=(None, 1030, 8), dtype=tf.float32, name='dense_2_input'), name='dense_2_input', description=\"created by layer 'dense_2_input'\"), but it was called on an input with incompatible shape (None, 8).\n",
      "WARNING:tensorflow:Model was constructed with shape (None, 1030, 8) for input KerasTensor(type_spec=TensorSpec(shape=(None, 1030, 8), dtype=tf.float32, name='dense_4_input'), name='dense_4_input', description=\"created by layer 'dense_4_input'\"), but it was called on an input with incompatible shape (None, 8).\n",
      "WARNING:tensorflow:Model was constructed with shape (None, 1030, 8) for input KerasTensor(type_spec=TensorSpec(shape=(None, 1030, 8), dtype=tf.float32, name='dense_4_input'), name='dense_4_input', description=\"created by layer 'dense_4_input'\"), but it was called on an input with incompatible shape (None, 8).\n",
      "WARNING:tensorflow:Model was constructed with shape (None, 1030, 8) for input KerasTensor(type_spec=TensorSpec(shape=(None, 1030, 8), dtype=tf.float32, name='dense_4_input'), name='dense_4_input', description=\"created by layer 'dense_4_input'\"), but it was called on an input with incompatible shape (None, 8).\n",
      "WARNING:tensorflow:Model was constructed with shape (None, 1030, 8) for input KerasTensor(type_spec=TensorSpec(shape=(None, 1030, 8), dtype=tf.float32, name='dense_4_input'), name='dense_4_input', description=\"created by layer 'dense_4_input'\"), but it was called on an input with incompatible shape (None, 8).\n",
      "WARNING:tensorflow:Model was constructed with shape (None, 1030, 8) for input KerasTensor(type_spec=TensorSpec(shape=(None, 1030, 8), dtype=tf.float32, name='dense_6_input'), name='dense_6_input', description=\"created by layer 'dense_6_input'\"), but it was called on an input with incompatible shape (None, 8).\n",
      "WARNING:tensorflow:Model was constructed with shape (None, 1030, 8) for input KerasTensor(type_spec=TensorSpec(shape=(None, 1030, 8), dtype=tf.float32, name='dense_6_input'), name='dense_6_input', description=\"created by layer 'dense_6_input'\"), but it was called on an input with incompatible shape (None, 8).\n",
      "WARNING:tensorflow:Model was constructed with shape (None, 1030, 8) for input KerasTensor(type_spec=TensorSpec(shape=(None, 1030, 8), dtype=tf.float32, name='dense_6_input'), name='dense_6_input', description=\"created by layer 'dense_6_input'\"), but it was called on an input with incompatible shape (None, 8).\n",
      "WARNING:tensorflow:Model was constructed with shape (None, 1030, 8) for input KerasTensor(type_spec=TensorSpec(shape=(None, 1030, 8), dtype=tf.float32, name='dense_6_input'), name='dense_6_input', description=\"created by layer 'dense_6_input'\"), but it was called on an input with incompatible shape (None, 8).\n",
      "WARNING:tensorflow:Model was constructed with shape (None, 1030, 8) for input KerasTensor(type_spec=TensorSpec(shape=(None, 1030, 8), dtype=tf.float32, name='dense_8_input'), name='dense_8_input', description=\"created by layer 'dense_8_input'\"), but it was called on an input with incompatible shape (None, 8).\n",
      "WARNING:tensorflow:Model was constructed with shape (None, 1030, 8) for input KerasTensor(type_spec=TensorSpec(shape=(None, 1030, 8), dtype=tf.float32, name='dense_8_input'), name='dense_8_input', description=\"created by layer 'dense_8_input'\"), but it was called on an input with incompatible shape (None, 8).\n",
      "WARNING:tensorflow:Model was constructed with shape (None, 1030, 8) for input KerasTensor(type_spec=TensorSpec(shape=(None, 1030, 8), dtype=tf.float32, name='dense_8_input'), name='dense_8_input', description=\"created by layer 'dense_8_input'\"), but it was called on an input with incompatible shape (None, 8).\n",
      "WARNING:tensorflow:Model was constructed with shape (None, 1030, 8) for input KerasTensor(type_spec=TensorSpec(shape=(None, 1030, 8), dtype=tf.float32, name='dense_8_input'), name='dense_8_input', description=\"created by layer 'dense_8_input'\"), but it was called on an input with incompatible shape (None, 8).\n",
      "WARNING:tensorflow:Model was constructed with shape (None, 1030, 8) for input KerasTensor(type_spec=TensorSpec(shape=(None, 1030, 8), dtype=tf.float32, name='dense_10_input'), name='dense_10_input', description=\"created by layer 'dense_10_input'\"), but it was called on an input with incompatible shape (None, 8).\n",
      "WARNING:tensorflow:Model was constructed with shape (None, 1030, 8) for input KerasTensor(type_spec=TensorSpec(shape=(None, 1030, 8), dtype=tf.float32, name='dense_10_input'), name='dense_10_input', description=\"created by layer 'dense_10_input'\"), but it was called on an input with incompatible shape (None, 8).\n",
      "WARNING:tensorflow:Model was constructed with shape (None, 1030, 8) for input KerasTensor(type_spec=TensorSpec(shape=(None, 1030, 8), dtype=tf.float32, name='dense_10_input'), name='dense_10_input', description=\"created by layer 'dense_10_input'\"), but it was called on an input with incompatible shape (None, 8).\n",
      "WARNING:tensorflow:Model was constructed with shape (None, 1030, 8) for input KerasTensor(type_spec=TensorSpec(shape=(None, 1030, 8), dtype=tf.float32, name='dense_10_input'), name='dense_10_input', description=\"created by layer 'dense_10_input'\"), but it was called on an input with incompatible shape (None, 8).\n",
      "WARNING:tensorflow:Model was constructed with shape (None, 1030, 8) for input KerasTensor(type_spec=TensorSpec(shape=(None, 1030, 8), dtype=tf.float32, name='dense_12_input'), name='dense_12_input', description=\"created by layer 'dense_12_input'\"), but it was called on an input with incompatible shape (None, 8).\n",
      "WARNING:tensorflow:Model was constructed with shape (None, 1030, 8) for input KerasTensor(type_spec=TensorSpec(shape=(None, 1030, 8), dtype=tf.float32, name='dense_12_input'), name='dense_12_input', description=\"created by layer 'dense_12_input'\"), but it was called on an input with incompatible shape (None, 8).\n",
      "WARNING:tensorflow:Model was constructed with shape (None, 1030, 8) for input KerasTensor(type_spec=TensorSpec(shape=(None, 1030, 8), dtype=tf.float32, name='dense_12_input'), name='dense_12_input', description=\"created by layer 'dense_12_input'\"), but it was called on an input with incompatible shape (None, 8).\n",
      "WARNING:tensorflow:Model was constructed with shape (None, 1030, 8) for input KerasTensor(type_spec=TensorSpec(shape=(None, 1030, 8), dtype=tf.float32, name='dense_12_input'), name='dense_12_input', description=\"created by layer 'dense_12_input'\"), but it was called on an input with incompatible shape (None, 8).\n",
      "WARNING:tensorflow:Model was constructed with shape (None, 1030, 8) for input KerasTensor(type_spec=TensorSpec(shape=(None, 1030, 8), dtype=tf.float32, name='dense_14_input'), name='dense_14_input', description=\"created by layer 'dense_14_input'\"), but it was called on an input with incompatible shape (None, 8).\n",
      "WARNING:tensorflow:Model was constructed with shape (None, 1030, 8) for input KerasTensor(type_spec=TensorSpec(shape=(None, 1030, 8), dtype=tf.float32, name='dense_14_input'), name='dense_14_input', description=\"created by layer 'dense_14_input'\"), but it was called on an input with incompatible shape (None, 8).\n",
      "WARNING:tensorflow:Model was constructed with shape (None, 1030, 8) for input KerasTensor(type_spec=TensorSpec(shape=(None, 1030, 8), dtype=tf.float32, name='dense_14_input'), name='dense_14_input', description=\"created by layer 'dense_14_input'\"), but it was called on an input with incompatible shape (None, 8).\n",
      "WARNING:tensorflow:Model was constructed with shape (None, 1030, 8) for input KerasTensor(type_spec=TensorSpec(shape=(None, 1030, 8), dtype=tf.float32, name='dense_14_input'), name='dense_14_input', description=\"created by layer 'dense_14_input'\"), but it was called on an input with incompatible shape (None, 8).\n",
      "WARNING:tensorflow:Model was constructed with shape (None, 1030, 8) for input KerasTensor(type_spec=TensorSpec(shape=(None, 1030, 8), dtype=tf.float32, name='dense_16_input'), name='dense_16_input', description=\"created by layer 'dense_16_input'\"), but it was called on an input with incompatible shape (None, 8).\n",
      "WARNING:tensorflow:Model was constructed with shape (None, 1030, 8) for input KerasTensor(type_spec=TensorSpec(shape=(None, 1030, 8), dtype=tf.float32, name='dense_16_input'), name='dense_16_input', description=\"created by layer 'dense_16_input'\"), but it was called on an input with incompatible shape (None, 8).\n",
      "WARNING:tensorflow:Model was constructed with shape (None, 1030, 8) for input KerasTensor(type_spec=TensorSpec(shape=(None, 1030, 8), dtype=tf.float32, name='dense_16_input'), name='dense_16_input', description=\"created by layer 'dense_16_input'\"), but it was called on an input with incompatible shape (None, 8).\n",
      "WARNING:tensorflow:Model was constructed with shape (None, 1030, 8) for input KerasTensor(type_spec=TensorSpec(shape=(None, 1030, 8), dtype=tf.float32, name='dense_16_input'), name='dense_16_input', description=\"created by layer 'dense_16_input'\"), but it was called on an input with incompatible shape (None, 8).\n",
      "WARNING:tensorflow:Model was constructed with shape (None, 1030, 8) for input KerasTensor(type_spec=TensorSpec(shape=(None, 1030, 8), dtype=tf.float32, name='dense_18_input'), name='dense_18_input', description=\"created by layer 'dense_18_input'\"), but it was called on an input with incompatible shape (None, 8).\n",
      "WARNING:tensorflow:Model was constructed with shape (None, 1030, 8) for input KerasTensor(type_spec=TensorSpec(shape=(None, 1030, 8), dtype=tf.float32, name='dense_18_input'), name='dense_18_input', description=\"created by layer 'dense_18_input'\"), but it was called on an input with incompatible shape (None, 8).\n",
      "WARNING:tensorflow:Model was constructed with shape (None, 1030, 8) for input KerasTensor(type_spec=TensorSpec(shape=(None, 1030, 8), dtype=tf.float32, name='dense_18_input'), name='dense_18_input', description=\"created by layer 'dense_18_input'\"), but it was called on an input with incompatible shape (None, 8).\n",
      "WARNING:tensorflow:Model was constructed with shape (None, 1030, 8) for input KerasTensor(type_spec=TensorSpec(shape=(None, 1030, 8), dtype=tf.float32, name='dense_18_input'), name='dense_18_input', description=\"created by layer 'dense_18_input'\"), but it was called on an input with incompatible shape (None, 8).\n",
      "WARNING:tensorflow:Model was constructed with shape (None, 1030, 8) for input KerasTensor(type_spec=TensorSpec(shape=(None, 1030, 8), dtype=tf.float32, name='dense_20_input'), name='dense_20_input', description=\"created by layer 'dense_20_input'\"), but it was called on an input with incompatible shape (None, 8).\n",
      "WARNING:tensorflow:Model was constructed with shape (None, 1030, 8) for input KerasTensor(type_spec=TensorSpec(shape=(None, 1030, 8), dtype=tf.float32, name='dense_20_input'), name='dense_20_input', description=\"created by layer 'dense_20_input'\"), but it was called on an input with incompatible shape (None, 8).\n",
      "WARNING:tensorflow:Model was constructed with shape (None, 1030, 8) for input KerasTensor(type_spec=TensorSpec(shape=(None, 1030, 8), dtype=tf.float32, name='dense_20_input'), name='dense_20_input', description=\"created by layer 'dense_20_input'\"), but it was called on an input with incompatible shape (None, 8).\n",
      "WARNING:tensorflow:Model was constructed with shape (None, 1030, 8) for input KerasTensor(type_spec=TensorSpec(shape=(None, 1030, 8), dtype=tf.float32, name='dense_20_input'), name='dense_20_input', description=\"created by layer 'dense_20_input'\"), but it was called on an input with incompatible shape (None, 8).\n",
      "WARNING:tensorflow:Model was constructed with shape (None, 1030, 8) for input KerasTensor(type_spec=TensorSpec(shape=(None, 1030, 8), dtype=tf.float32, name='dense_22_input'), name='dense_22_input', description=\"created by layer 'dense_22_input'\"), but it was called on an input with incompatible shape (None, 8).\n",
      "WARNING:tensorflow:Model was constructed with shape (None, 1030, 8) for input KerasTensor(type_spec=TensorSpec(shape=(None, 1030, 8), dtype=tf.float32, name='dense_22_input'), name='dense_22_input', description=\"created by layer 'dense_22_input'\"), but it was called on an input with incompatible shape (None, 8).\n",
      "WARNING:tensorflow:Model was constructed with shape (None, 1030, 8) for input KerasTensor(type_spec=TensorSpec(shape=(None, 1030, 8), dtype=tf.float32, name='dense_22_input'), name='dense_22_input', description=\"created by layer 'dense_22_input'\"), but it was called on an input with incompatible shape (None, 8).\n",
      "WARNING:tensorflow:Model was constructed with shape (None, 1030, 8) for input KerasTensor(type_spec=TensorSpec(shape=(None, 1030, 8), dtype=tf.float32, name='dense_22_input'), name='dense_22_input', description=\"created by layer 'dense_22_input'\"), but it was called on an input with incompatible shape (None, 8).\n",
      "WARNING:tensorflow:Model was constructed with shape (None, 1030, 8) for input KerasTensor(type_spec=TensorSpec(shape=(None, 1030, 8), dtype=tf.float32, name='dense_24_input'), name='dense_24_input', description=\"created by layer 'dense_24_input'\"), but it was called on an input with incompatible shape (None, 8).\n",
      "WARNING:tensorflow:Model was constructed with shape (None, 1030, 8) for input KerasTensor(type_spec=TensorSpec(shape=(None, 1030, 8), dtype=tf.float32, name='dense_24_input'), name='dense_24_input', description=\"created by layer 'dense_24_input'\"), but it was called on an input with incompatible shape (None, 8).\n",
      "WARNING:tensorflow:Model was constructed with shape (None, 1030, 8) for input KerasTensor(type_spec=TensorSpec(shape=(None, 1030, 8), dtype=tf.float32, name='dense_24_input'), name='dense_24_input', description=\"created by layer 'dense_24_input'\"), but it was called on an input with incompatible shape (None, 8).\n",
      "WARNING:tensorflow:Model was constructed with shape (None, 1030, 8) for input KerasTensor(type_spec=TensorSpec(shape=(None, 1030, 8), dtype=tf.float32, name='dense_24_input'), name='dense_24_input', description=\"created by layer 'dense_24_input'\"), but it was called on an input with incompatible shape (None, 8).\n",
      "WARNING:tensorflow:Model was constructed with shape (None, 1030, 8) for input KerasTensor(type_spec=TensorSpec(shape=(None, 1030, 8), dtype=tf.float32, name='dense_26_input'), name='dense_26_input', description=\"created by layer 'dense_26_input'\"), but it was called on an input with incompatible shape (None, 8).\n",
      "WARNING:tensorflow:Model was constructed with shape (None, 1030, 8) for input KerasTensor(type_spec=TensorSpec(shape=(None, 1030, 8), dtype=tf.float32, name='dense_26_input'), name='dense_26_input', description=\"created by layer 'dense_26_input'\"), but it was called on an input with incompatible shape (None, 8).\n",
      "WARNING:tensorflow:Model was constructed with shape (None, 1030, 8) for input KerasTensor(type_spec=TensorSpec(shape=(None, 1030, 8), dtype=tf.float32, name='dense_26_input'), name='dense_26_input', description=\"created by layer 'dense_26_input'\"), but it was called on an input with incompatible shape (None, 8).\n",
      "WARNING:tensorflow:Model was constructed with shape (None, 1030, 8) for input KerasTensor(type_spec=TensorSpec(shape=(None, 1030, 8), dtype=tf.float32, name='dense_26_input'), name='dense_26_input', description=\"created by layer 'dense_26_input'\"), but it was called on an input with incompatible shape (None, 8).\n",
      "WARNING:tensorflow:Model was constructed with shape (None, 1030, 8) for input KerasTensor(type_spec=TensorSpec(shape=(None, 1030, 8), dtype=tf.float32, name='dense_28_input'), name='dense_28_input', description=\"created by layer 'dense_28_input'\"), but it was called on an input with incompatible shape (None, 8).\n",
      "WARNING:tensorflow:Model was constructed with shape (None, 1030, 8) for input KerasTensor(type_spec=TensorSpec(shape=(None, 1030, 8), dtype=tf.float32, name='dense_28_input'), name='dense_28_input', description=\"created by layer 'dense_28_input'\"), but it was called on an input with incompatible shape (None, 8).\n",
      "WARNING:tensorflow:Model was constructed with shape (None, 1030, 8) for input KerasTensor(type_spec=TensorSpec(shape=(None, 1030, 8), dtype=tf.float32, name='dense_28_input'), name='dense_28_input', description=\"created by layer 'dense_28_input'\"), but it was called on an input with incompatible shape (None, 8).\n",
      "WARNING:tensorflow:Model was constructed with shape (None, 1030, 8) for input KerasTensor(type_spec=TensorSpec(shape=(None, 1030, 8), dtype=tf.float32, name='dense_28_input'), name='dense_28_input', description=\"created by layer 'dense_28_input'\"), but it was called on an input with incompatible shape (None, 8).\n",
      "WARNING:tensorflow:Model was constructed with shape (None, 1030, 8) for input KerasTensor(type_spec=TensorSpec(shape=(None, 1030, 8), dtype=tf.float32, name='dense_30_input'), name='dense_30_input', description=\"created by layer 'dense_30_input'\"), but it was called on an input with incompatible shape (None, 8).\n",
      "WARNING:tensorflow:Model was constructed with shape (None, 1030, 8) for input KerasTensor(type_spec=TensorSpec(shape=(None, 1030, 8), dtype=tf.float32, name='dense_30_input'), name='dense_30_input', description=\"created by layer 'dense_30_input'\"), but it was called on an input with incompatible shape (None, 8).\n",
      "WARNING:tensorflow:Model was constructed with shape (None, 1030, 8) for input KerasTensor(type_spec=TensorSpec(shape=(None, 1030, 8), dtype=tf.float32, name='dense_30_input'), name='dense_30_input', description=\"created by layer 'dense_30_input'\"), but it was called on an input with incompatible shape (None, 8).\n",
      "WARNING:tensorflow:Model was constructed with shape (None, 1030, 8) for input KerasTensor(type_spec=TensorSpec(shape=(None, 1030, 8), dtype=tf.float32, name='dense_30_input'), name='dense_30_input', description=\"created by layer 'dense_30_input'\"), but it was called on an input with incompatible shape (None, 8).\n",
      "WARNING:tensorflow:Model was constructed with shape (None, 1030, 8) for input KerasTensor(type_spec=TensorSpec(shape=(None, 1030, 8), dtype=tf.float32, name='dense_32_input'), name='dense_32_input', description=\"created by layer 'dense_32_input'\"), but it was called on an input with incompatible shape (None, 8).\n",
      "WARNING:tensorflow:Model was constructed with shape (None, 1030, 8) for input KerasTensor(type_spec=TensorSpec(shape=(None, 1030, 8), dtype=tf.float32, name='dense_32_input'), name='dense_32_input', description=\"created by layer 'dense_32_input'\"), but it was called on an input with incompatible shape (None, 8).\n",
      "WARNING:tensorflow:Model was constructed with shape (None, 1030, 8) for input KerasTensor(type_spec=TensorSpec(shape=(None, 1030, 8), dtype=tf.float32, name='dense_32_input'), name='dense_32_input', description=\"created by layer 'dense_32_input'\"), but it was called on an input with incompatible shape (None, 8).\n",
      "WARNING:tensorflow:Model was constructed with shape (None, 1030, 8) for input KerasTensor(type_spec=TensorSpec(shape=(None, 1030, 8), dtype=tf.float32, name='dense_32_input'), name='dense_32_input', description=\"created by layer 'dense_32_input'\"), but it was called on an input with incompatible shape (None, 8).\n",
      "WARNING:tensorflow:Model was constructed with shape (None, 1030, 8) for input KerasTensor(type_spec=TensorSpec(shape=(None, 1030, 8), dtype=tf.float32, name='dense_34_input'), name='dense_34_input', description=\"created by layer 'dense_34_input'\"), but it was called on an input with incompatible shape (None, 8).\n",
      "WARNING:tensorflow:Model was constructed with shape (None, 1030, 8) for input KerasTensor(type_spec=TensorSpec(shape=(None, 1030, 8), dtype=tf.float32, name='dense_34_input'), name='dense_34_input', description=\"created by layer 'dense_34_input'\"), but it was called on an input with incompatible shape (None, 8).\n",
      "WARNING:tensorflow:Model was constructed with shape (None, 1030, 8) for input KerasTensor(type_spec=TensorSpec(shape=(None, 1030, 8), dtype=tf.float32, name='dense_34_input'), name='dense_34_input', description=\"created by layer 'dense_34_input'\"), but it was called on an input with incompatible shape (None, 8).\n",
      "WARNING:tensorflow:Model was constructed with shape (None, 1030, 8) for input KerasTensor(type_spec=TensorSpec(shape=(None, 1030, 8), dtype=tf.float32, name='dense_34_input'), name='dense_34_input', description=\"created by layer 'dense_34_input'\"), but it was called on an input with incompatible shape (None, 8).\n",
      "WARNING:tensorflow:Model was constructed with shape (None, 1030, 8) for input KerasTensor(type_spec=TensorSpec(shape=(None, 1030, 8), dtype=tf.float32, name='dense_36_input'), name='dense_36_input', description=\"created by layer 'dense_36_input'\"), but it was called on an input with incompatible shape (None, 8).\n",
      "WARNING:tensorflow:Model was constructed with shape (None, 1030, 8) for input KerasTensor(type_spec=TensorSpec(shape=(None, 1030, 8), dtype=tf.float32, name='dense_36_input'), name='dense_36_input', description=\"created by layer 'dense_36_input'\"), but it was called on an input with incompatible shape (None, 8).\n",
      "WARNING:tensorflow:Model was constructed with shape (None, 1030, 8) for input KerasTensor(type_spec=TensorSpec(shape=(None, 1030, 8), dtype=tf.float32, name='dense_36_input'), name='dense_36_input', description=\"created by layer 'dense_36_input'\"), but it was called on an input with incompatible shape (None, 8).\n",
      "WARNING:tensorflow:Model was constructed with shape (None, 1030, 8) for input KerasTensor(type_spec=TensorSpec(shape=(None, 1030, 8), dtype=tf.float32, name='dense_36_input'), name='dense_36_input', description=\"created by layer 'dense_36_input'\"), but it was called on an input with incompatible shape (None, 8).\n",
      "WARNING:tensorflow:Model was constructed with shape (None, 1030, 8) for input KerasTensor(type_spec=TensorSpec(shape=(None, 1030, 8), dtype=tf.float32, name='dense_38_input'), name='dense_38_input', description=\"created by layer 'dense_38_input'\"), but it was called on an input with incompatible shape (None, 8).\n",
      "WARNING:tensorflow:Model was constructed with shape (None, 1030, 8) for input KerasTensor(type_spec=TensorSpec(shape=(None, 1030, 8), dtype=tf.float32, name='dense_38_input'), name='dense_38_input', description=\"created by layer 'dense_38_input'\"), but it was called on an input with incompatible shape (None, 8).\n",
      "WARNING:tensorflow:Model was constructed with shape (None, 1030, 8) for input KerasTensor(type_spec=TensorSpec(shape=(None, 1030, 8), dtype=tf.float32, name='dense_38_input'), name='dense_38_input', description=\"created by layer 'dense_38_input'\"), but it was called on an input with incompatible shape (None, 8).\n",
      "WARNING:tensorflow:Model was constructed with shape (None, 1030, 8) for input KerasTensor(type_spec=TensorSpec(shape=(None, 1030, 8), dtype=tf.float32, name='dense_38_input'), name='dense_38_input', description=\"created by layer 'dense_38_input'\"), but it was called on an input with incompatible shape (None, 8).\n",
      "WARNING:tensorflow:Model was constructed with shape (None, 1030, 8) for input KerasTensor(type_spec=TensorSpec(shape=(None, 1030, 8), dtype=tf.float32, name='dense_40_input'), name='dense_40_input', description=\"created by layer 'dense_40_input'\"), but it was called on an input with incompatible shape (None, 8).\n",
      "WARNING:tensorflow:Model was constructed with shape (None, 1030, 8) for input KerasTensor(type_spec=TensorSpec(shape=(None, 1030, 8), dtype=tf.float32, name='dense_40_input'), name='dense_40_input', description=\"created by layer 'dense_40_input'\"), but it was called on an input with incompatible shape (None, 8).\n",
      "WARNING:tensorflow:Model was constructed with shape (None, 1030, 8) for input KerasTensor(type_spec=TensorSpec(shape=(None, 1030, 8), dtype=tf.float32, name='dense_40_input'), name='dense_40_input', description=\"created by layer 'dense_40_input'\"), but it was called on an input with incompatible shape (None, 8).\n",
      "WARNING:tensorflow:Model was constructed with shape (None, 1030, 8) for input KerasTensor(type_spec=TensorSpec(shape=(None, 1030, 8), dtype=tf.float32, name='dense_40_input'), name='dense_40_input', description=\"created by layer 'dense_40_input'\"), but it was called on an input with incompatible shape (None, 8).\n",
      "WARNING:tensorflow:Model was constructed with shape (None, 1030, 8) for input KerasTensor(type_spec=TensorSpec(shape=(None, 1030, 8), dtype=tf.float32, name='dense_42_input'), name='dense_42_input', description=\"created by layer 'dense_42_input'\"), but it was called on an input with incompatible shape (None, 8).\n",
      "WARNING:tensorflow:Model was constructed with shape (None, 1030, 8) for input KerasTensor(type_spec=TensorSpec(shape=(None, 1030, 8), dtype=tf.float32, name='dense_42_input'), name='dense_42_input', description=\"created by layer 'dense_42_input'\"), but it was called on an input with incompatible shape (None, 8).\n",
      "WARNING:tensorflow:Model was constructed with shape (None, 1030, 8) for input KerasTensor(type_spec=TensorSpec(shape=(None, 1030, 8), dtype=tf.float32, name='dense_42_input'), name='dense_42_input', description=\"created by layer 'dense_42_input'\"), but it was called on an input with incompatible shape (None, 8).\n",
      "WARNING:tensorflow:Model was constructed with shape (None, 1030, 8) for input KerasTensor(type_spec=TensorSpec(shape=(None, 1030, 8), dtype=tf.float32, name='dense_42_input'), name='dense_42_input', description=\"created by layer 'dense_42_input'\"), but it was called on an input with incompatible shape (None, 8).\n",
      "WARNING:tensorflow:Model was constructed with shape (None, 1030, 8) for input KerasTensor(type_spec=TensorSpec(shape=(None, 1030, 8), dtype=tf.float32, name='dense_44_input'), name='dense_44_input', description=\"created by layer 'dense_44_input'\"), but it was called on an input with incompatible shape (None, 8).\n",
      "WARNING:tensorflow:Model was constructed with shape (None, 1030, 8) for input KerasTensor(type_spec=TensorSpec(shape=(None, 1030, 8), dtype=tf.float32, name='dense_44_input'), name='dense_44_input', description=\"created by layer 'dense_44_input'\"), but it was called on an input with incompatible shape (None, 8).\n",
      "WARNING:tensorflow:Model was constructed with shape (None, 1030, 8) for input KerasTensor(type_spec=TensorSpec(shape=(None, 1030, 8), dtype=tf.float32, name='dense_44_input'), name='dense_44_input', description=\"created by layer 'dense_44_input'\"), but it was called on an input with incompatible shape (None, 8).\n",
      "WARNING:tensorflow:Model was constructed with shape (None, 1030, 8) for input KerasTensor(type_spec=TensorSpec(shape=(None, 1030, 8), dtype=tf.float32, name='dense_44_input'), name='dense_44_input', description=\"created by layer 'dense_44_input'\"), but it was called on an input with incompatible shape (None, 8).\n",
      "WARNING:tensorflow:Model was constructed with shape (None, 1030, 8) for input KerasTensor(type_spec=TensorSpec(shape=(None, 1030, 8), dtype=tf.float32, name='dense_46_input'), name='dense_46_input', description=\"created by layer 'dense_46_input'\"), but it was called on an input with incompatible shape (None, 8).\n",
      "WARNING:tensorflow:Model was constructed with shape (None, 1030, 8) for input KerasTensor(type_spec=TensorSpec(shape=(None, 1030, 8), dtype=tf.float32, name='dense_46_input'), name='dense_46_input', description=\"created by layer 'dense_46_input'\"), but it was called on an input with incompatible shape (None, 8).\n",
      "WARNING:tensorflow:Model was constructed with shape (None, 1030, 8) for input KerasTensor(type_spec=TensorSpec(shape=(None, 1030, 8), dtype=tf.float32, name='dense_46_input'), name='dense_46_input', description=\"created by layer 'dense_46_input'\"), but it was called on an input with incompatible shape (None, 8).\n",
      "WARNING:tensorflow:Model was constructed with shape (None, 1030, 8) for input KerasTensor(type_spec=TensorSpec(shape=(None, 1030, 8), dtype=tf.float32, name='dense_46_input'), name='dense_46_input', description=\"created by layer 'dense_46_input'\"), but it was called on an input with incompatible shape (None, 8).\n",
      "WARNING:tensorflow:Model was constructed with shape (None, 1030, 8) for input KerasTensor(type_spec=TensorSpec(shape=(None, 1030, 8), dtype=tf.float32, name='dense_48_input'), name='dense_48_input', description=\"created by layer 'dense_48_input'\"), but it was called on an input with incompatible shape (None, 8).\n",
      "WARNING:tensorflow:Model was constructed with shape (None, 1030, 8) for input KerasTensor(type_spec=TensorSpec(shape=(None, 1030, 8), dtype=tf.float32, name='dense_48_input'), name='dense_48_input', description=\"created by layer 'dense_48_input'\"), but it was called on an input with incompatible shape (None, 8).\n",
      "WARNING:tensorflow:Model was constructed with shape (None, 1030, 8) for input KerasTensor(type_spec=TensorSpec(shape=(None, 1030, 8), dtype=tf.float32, name='dense_48_input'), name='dense_48_input', description=\"created by layer 'dense_48_input'\"), but it was called on an input with incompatible shape (None, 8).\n",
      "WARNING:tensorflow:Model was constructed with shape (None, 1030, 8) for input KerasTensor(type_spec=TensorSpec(shape=(None, 1030, 8), dtype=tf.float32, name='dense_48_input'), name='dense_48_input', description=\"created by layer 'dense_48_input'\"), but it was called on an input with incompatible shape (None, 8).\n",
      "WARNING:tensorflow:Model was constructed with shape (None, 1030, 8) for input KerasTensor(type_spec=TensorSpec(shape=(None, 1030, 8), dtype=tf.float32, name='dense_50_input'), name='dense_50_input', description=\"created by layer 'dense_50_input'\"), but it was called on an input with incompatible shape (None, 8).\n",
      "WARNING:tensorflow:Model was constructed with shape (None, 1030, 8) for input KerasTensor(type_spec=TensorSpec(shape=(None, 1030, 8), dtype=tf.float32, name='dense_50_input'), name='dense_50_input', description=\"created by layer 'dense_50_input'\"), but it was called on an input with incompatible shape (None, 8).\n",
      "WARNING:tensorflow:Model was constructed with shape (None, 1030, 8) for input KerasTensor(type_spec=TensorSpec(shape=(None, 1030, 8), dtype=tf.float32, name='dense_50_input'), name='dense_50_input', description=\"created by layer 'dense_50_input'\"), but it was called on an input with incompatible shape (None, 8).\n",
      "WARNING:tensorflow:Model was constructed with shape (None, 1030, 8) for input KerasTensor(type_spec=TensorSpec(shape=(None, 1030, 8), dtype=tf.float32, name='dense_50_input'), name='dense_50_input', description=\"created by layer 'dense_50_input'\"), but it was called on an input with incompatible shape (None, 8).\n",
      "WARNING:tensorflow:Model was constructed with shape (None, 1030, 8) for input KerasTensor(type_spec=TensorSpec(shape=(None, 1030, 8), dtype=tf.float32, name='dense_52_input'), name='dense_52_input', description=\"created by layer 'dense_52_input'\"), but it was called on an input with incompatible shape (None, 8).\n",
      "WARNING:tensorflow:Model was constructed with shape (None, 1030, 8) for input KerasTensor(type_spec=TensorSpec(shape=(None, 1030, 8), dtype=tf.float32, name='dense_52_input'), name='dense_52_input', description=\"created by layer 'dense_52_input'\"), but it was called on an input with incompatible shape (None, 8).\n",
      "WARNING:tensorflow:Model was constructed with shape (None, 1030, 8) for input KerasTensor(type_spec=TensorSpec(shape=(None, 1030, 8), dtype=tf.float32, name='dense_52_input'), name='dense_52_input', description=\"created by layer 'dense_52_input'\"), but it was called on an input with incompatible shape (None, 8).\n",
      "WARNING:tensorflow:Model was constructed with shape (None, 1030, 8) for input KerasTensor(type_spec=TensorSpec(shape=(None, 1030, 8), dtype=tf.float32, name='dense_52_input'), name='dense_52_input', description=\"created by layer 'dense_52_input'\"), but it was called on an input with incompatible shape (None, 8).\n",
      "WARNING:tensorflow:Model was constructed with shape (None, 1030, 8) for input KerasTensor(type_spec=TensorSpec(shape=(None, 1030, 8), dtype=tf.float32, name='dense_54_input'), name='dense_54_input', description=\"created by layer 'dense_54_input'\"), but it was called on an input with incompatible shape (None, 8).\n",
      "WARNING:tensorflow:Model was constructed with shape (None, 1030, 8) for input KerasTensor(type_spec=TensorSpec(shape=(None, 1030, 8), dtype=tf.float32, name='dense_54_input'), name='dense_54_input', description=\"created by layer 'dense_54_input'\"), but it was called on an input with incompatible shape (None, 8).\n",
      "WARNING:tensorflow:Model was constructed with shape (None, 1030, 8) for input KerasTensor(type_spec=TensorSpec(shape=(None, 1030, 8), dtype=tf.float32, name='dense_54_input'), name='dense_54_input', description=\"created by layer 'dense_54_input'\"), but it was called on an input with incompatible shape (None, 8).\n",
      "WARNING:tensorflow:Model was constructed with shape (None, 1030, 8) for input KerasTensor(type_spec=TensorSpec(shape=(None, 1030, 8), dtype=tf.float32, name='dense_54_input'), name='dense_54_input', description=\"created by layer 'dense_54_input'\"), but it was called on an input with incompatible shape (None, 8).\n",
      "WARNING:tensorflow:Model was constructed with shape (None, 1030, 8) for input KerasTensor(type_spec=TensorSpec(shape=(None, 1030, 8), dtype=tf.float32, name='dense_56_input'), name='dense_56_input', description=\"created by layer 'dense_56_input'\"), but it was called on an input with incompatible shape (None, 8).\n",
      "WARNING:tensorflow:Model was constructed with shape (None, 1030, 8) for input KerasTensor(type_spec=TensorSpec(shape=(None, 1030, 8), dtype=tf.float32, name='dense_56_input'), name='dense_56_input', description=\"created by layer 'dense_56_input'\"), but it was called on an input with incompatible shape (None, 8).\n",
      "WARNING:tensorflow:Model was constructed with shape (None, 1030, 8) for input KerasTensor(type_spec=TensorSpec(shape=(None, 1030, 8), dtype=tf.float32, name='dense_56_input'), name='dense_56_input', description=\"created by layer 'dense_56_input'\"), but it was called on an input with incompatible shape (None, 8).\n",
      "WARNING:tensorflow:Model was constructed with shape (None, 1030, 8) for input KerasTensor(type_spec=TensorSpec(shape=(None, 1030, 8), dtype=tf.float32, name='dense_56_input'), name='dense_56_input', description=\"created by layer 'dense_56_input'\"), but it was called on an input with incompatible shape (None, 8).\n",
      "WARNING:tensorflow:Model was constructed with shape (None, 1030, 8) for input KerasTensor(type_spec=TensorSpec(shape=(None, 1030, 8), dtype=tf.float32, name='dense_58_input'), name='dense_58_input', description=\"created by layer 'dense_58_input'\"), but it was called on an input with incompatible shape (None, 8).\n",
      "WARNING:tensorflow:Model was constructed with shape (None, 1030, 8) for input KerasTensor(type_spec=TensorSpec(shape=(None, 1030, 8), dtype=tf.float32, name='dense_58_input'), name='dense_58_input', description=\"created by layer 'dense_58_input'\"), but it was called on an input with incompatible shape (None, 8).\n",
      "WARNING:tensorflow:Model was constructed with shape (None, 1030, 8) for input KerasTensor(type_spec=TensorSpec(shape=(None, 1030, 8), dtype=tf.float32, name='dense_58_input'), name='dense_58_input', description=\"created by layer 'dense_58_input'\"), but it was called on an input with incompatible shape (None, 8).\n",
      "WARNING:tensorflow:Model was constructed with shape (None, 1030, 8) for input KerasTensor(type_spec=TensorSpec(shape=(None, 1030, 8), dtype=tf.float32, name='dense_58_input'), name='dense_58_input', description=\"created by layer 'dense_58_input'\"), but it was called on an input with incompatible shape (None, 8).\n",
      "WARNING:tensorflow:Model was constructed with shape (None, 1030, 8) for input KerasTensor(type_spec=TensorSpec(shape=(None, 1030, 8), dtype=tf.float32, name='dense_60_input'), name='dense_60_input', description=\"created by layer 'dense_60_input'\"), but it was called on an input with incompatible shape (None, 8).\n",
      "WARNING:tensorflow:Model was constructed with shape (None, 1030, 8) for input KerasTensor(type_spec=TensorSpec(shape=(None, 1030, 8), dtype=tf.float32, name='dense_60_input'), name='dense_60_input', description=\"created by layer 'dense_60_input'\"), but it was called on an input with incompatible shape (None, 8).\n",
      "WARNING:tensorflow:Model was constructed with shape (None, 1030, 8) for input KerasTensor(type_spec=TensorSpec(shape=(None, 1030, 8), dtype=tf.float32, name='dense_60_input'), name='dense_60_input', description=\"created by layer 'dense_60_input'\"), but it was called on an input with incompatible shape (None, 8).\n",
      "WARNING:tensorflow:Model was constructed with shape (None, 1030, 8) for input KerasTensor(type_spec=TensorSpec(shape=(None, 1030, 8), dtype=tf.float32, name='dense_60_input'), name='dense_60_input', description=\"created by layer 'dense_60_input'\"), but it was called on an input with incompatible shape (None, 8).\n",
      "WARNING:tensorflow:Model was constructed with shape (None, 1030, 8) for input KerasTensor(type_spec=TensorSpec(shape=(None, 1030, 8), dtype=tf.float32, name='dense_62_input'), name='dense_62_input', description=\"created by layer 'dense_62_input'\"), but it was called on an input with incompatible shape (None, 8).\n",
      "WARNING:tensorflow:Model was constructed with shape (None, 1030, 8) for input KerasTensor(type_spec=TensorSpec(shape=(None, 1030, 8), dtype=tf.float32, name='dense_62_input'), name='dense_62_input', description=\"created by layer 'dense_62_input'\"), but it was called on an input with incompatible shape (None, 8).\n",
      "WARNING:tensorflow:Model was constructed with shape (None, 1030, 8) for input KerasTensor(type_spec=TensorSpec(shape=(None, 1030, 8), dtype=tf.float32, name='dense_62_input'), name='dense_62_input', description=\"created by layer 'dense_62_input'\"), but it was called on an input with incompatible shape (None, 8).\n",
      "WARNING:tensorflow:Model was constructed with shape (None, 1030, 8) for input KerasTensor(type_spec=TensorSpec(shape=(None, 1030, 8), dtype=tf.float32, name='dense_62_input'), name='dense_62_input', description=\"created by layer 'dense_62_input'\"), but it was called on an input with incompatible shape (None, 8).\n",
      "WARNING:tensorflow:Model was constructed with shape (None, 1030, 8) for input KerasTensor(type_spec=TensorSpec(shape=(None, 1030, 8), dtype=tf.float32, name='dense_64_input'), name='dense_64_input', description=\"created by layer 'dense_64_input'\"), but it was called on an input with incompatible shape (None, 8).\n",
      "WARNING:tensorflow:Model was constructed with shape (None, 1030, 8) for input KerasTensor(type_spec=TensorSpec(shape=(None, 1030, 8), dtype=tf.float32, name='dense_64_input'), name='dense_64_input', description=\"created by layer 'dense_64_input'\"), but it was called on an input with incompatible shape (None, 8).\n",
      "WARNING:tensorflow:Model was constructed with shape (None, 1030, 8) for input KerasTensor(type_spec=TensorSpec(shape=(None, 1030, 8), dtype=tf.float32, name='dense_64_input'), name='dense_64_input', description=\"created by layer 'dense_64_input'\"), but it was called on an input with incompatible shape (None, 8).\n",
      "WARNING:tensorflow:Model was constructed with shape (None, 1030, 8) for input KerasTensor(type_spec=TensorSpec(shape=(None, 1030, 8), dtype=tf.float32, name='dense_64_input'), name='dense_64_input', description=\"created by layer 'dense_64_input'\"), but it was called on an input with incompatible shape (None, 8).\n",
      "WARNING:tensorflow:Model was constructed with shape (None, 1030, 8) for input KerasTensor(type_spec=TensorSpec(shape=(None, 1030, 8), dtype=tf.float32, name='dense_66_input'), name='dense_66_input', description=\"created by layer 'dense_66_input'\"), but it was called on an input with incompatible shape (None, 8).\n",
      "WARNING:tensorflow:Model was constructed with shape (None, 1030, 8) for input KerasTensor(type_spec=TensorSpec(shape=(None, 1030, 8), dtype=tf.float32, name='dense_66_input'), name='dense_66_input', description=\"created by layer 'dense_66_input'\"), but it was called on an input with incompatible shape (None, 8).\n",
      "WARNING:tensorflow:Model was constructed with shape (None, 1030, 8) for input KerasTensor(type_spec=TensorSpec(shape=(None, 1030, 8), dtype=tf.float32, name='dense_66_input'), name='dense_66_input', description=\"created by layer 'dense_66_input'\"), but it was called on an input with incompatible shape (None, 8).\n",
      "WARNING:tensorflow:Model was constructed with shape (None, 1030, 8) for input KerasTensor(type_spec=TensorSpec(shape=(None, 1030, 8), dtype=tf.float32, name='dense_66_input'), name='dense_66_input', description=\"created by layer 'dense_66_input'\"), but it was called on an input with incompatible shape (None, 8).\n",
      "WARNING:tensorflow:Model was constructed with shape (None, 1030, 8) for input KerasTensor(type_spec=TensorSpec(shape=(None, 1030, 8), dtype=tf.float32, name='dense_68_input'), name='dense_68_input', description=\"created by layer 'dense_68_input'\"), but it was called on an input with incompatible shape (None, 8).\n",
      "WARNING:tensorflow:Model was constructed with shape (None, 1030, 8) for input KerasTensor(type_spec=TensorSpec(shape=(None, 1030, 8), dtype=tf.float32, name='dense_68_input'), name='dense_68_input', description=\"created by layer 'dense_68_input'\"), but it was called on an input with incompatible shape (None, 8).\n",
      "WARNING:tensorflow:Model was constructed with shape (None, 1030, 8) for input KerasTensor(type_spec=TensorSpec(shape=(None, 1030, 8), dtype=tf.float32, name='dense_68_input'), name='dense_68_input', description=\"created by layer 'dense_68_input'\"), but it was called on an input with incompatible shape (None, 8).\n",
      "WARNING:tensorflow:Model was constructed with shape (None, 1030, 8) for input KerasTensor(type_spec=TensorSpec(shape=(None, 1030, 8), dtype=tf.float32, name='dense_68_input'), name='dense_68_input', description=\"created by layer 'dense_68_input'\"), but it was called on an input with incompatible shape (None, 8).\n",
      "WARNING:tensorflow:Model was constructed with shape (None, 1030, 8) for input KerasTensor(type_spec=TensorSpec(shape=(None, 1030, 8), dtype=tf.float32, name='dense_70_input'), name='dense_70_input', description=\"created by layer 'dense_70_input'\"), but it was called on an input with incompatible shape (None, 8).\n",
      "WARNING:tensorflow:Model was constructed with shape (None, 1030, 8) for input KerasTensor(type_spec=TensorSpec(shape=(None, 1030, 8), dtype=tf.float32, name='dense_70_input'), name='dense_70_input', description=\"created by layer 'dense_70_input'\"), but it was called on an input with incompatible shape (None, 8).\n",
      "WARNING:tensorflow:Model was constructed with shape (None, 1030, 8) for input KerasTensor(type_spec=TensorSpec(shape=(None, 1030, 8), dtype=tf.float32, name='dense_70_input'), name='dense_70_input', description=\"created by layer 'dense_70_input'\"), but it was called on an input with incompatible shape (None, 8).\n",
      "WARNING:tensorflow:Model was constructed with shape (None, 1030, 8) for input KerasTensor(type_spec=TensorSpec(shape=(None, 1030, 8), dtype=tf.float32, name='dense_70_input'), name='dense_70_input', description=\"created by layer 'dense_70_input'\"), but it was called on an input with incompatible shape (None, 8).\n",
      "WARNING:tensorflow:Model was constructed with shape (None, 1030, 8) for input KerasTensor(type_spec=TensorSpec(shape=(None, 1030, 8), dtype=tf.float32, name='dense_72_input'), name='dense_72_input', description=\"created by layer 'dense_72_input'\"), but it was called on an input with incompatible shape (None, 8).\n",
      "WARNING:tensorflow:Model was constructed with shape (None, 1030, 8) for input KerasTensor(type_spec=TensorSpec(shape=(None, 1030, 8), dtype=tf.float32, name='dense_72_input'), name='dense_72_input', description=\"created by layer 'dense_72_input'\"), but it was called on an input with incompatible shape (None, 8).\n",
      "WARNING:tensorflow:Model was constructed with shape (None, 1030, 8) for input KerasTensor(type_spec=TensorSpec(shape=(None, 1030, 8), dtype=tf.float32, name='dense_72_input'), name='dense_72_input', description=\"created by layer 'dense_72_input'\"), but it was called on an input with incompatible shape (None, 8).\n",
      "WARNING:tensorflow:Model was constructed with shape (None, 1030, 8) for input KerasTensor(type_spec=TensorSpec(shape=(None, 1030, 8), dtype=tf.float32, name='dense_72_input'), name='dense_72_input', description=\"created by layer 'dense_72_input'\"), but it was called on an input with incompatible shape (None, 8).\n",
      "WARNING:tensorflow:Model was constructed with shape (None, 1030, 8) for input KerasTensor(type_spec=TensorSpec(shape=(None, 1030, 8), dtype=tf.float32, name='dense_74_input'), name='dense_74_input', description=\"created by layer 'dense_74_input'\"), but it was called on an input with incompatible shape (None, 8).\n",
      "WARNING:tensorflow:Model was constructed with shape (None, 1030, 8) for input KerasTensor(type_spec=TensorSpec(shape=(None, 1030, 8), dtype=tf.float32, name='dense_74_input'), name='dense_74_input', description=\"created by layer 'dense_74_input'\"), but it was called on an input with incompatible shape (None, 8).\n",
      "WARNING:tensorflow:Model was constructed with shape (None, 1030, 8) for input KerasTensor(type_spec=TensorSpec(shape=(None, 1030, 8), dtype=tf.float32, name='dense_74_input'), name='dense_74_input', description=\"created by layer 'dense_74_input'\"), but it was called on an input with incompatible shape (None, 8).\n",
      "WARNING:tensorflow:Model was constructed with shape (None, 1030, 8) for input KerasTensor(type_spec=TensorSpec(shape=(None, 1030, 8), dtype=tf.float32, name='dense_74_input'), name='dense_74_input', description=\"created by layer 'dense_74_input'\"), but it was called on an input with incompatible shape (None, 8).\n",
      "WARNING:tensorflow:Model was constructed with shape (None, 1030, 8) for input KerasTensor(type_spec=TensorSpec(shape=(None, 1030, 8), dtype=tf.float32, name='dense_76_input'), name='dense_76_input', description=\"created by layer 'dense_76_input'\"), but it was called on an input with incompatible shape (None, 8).\n",
      "WARNING:tensorflow:Model was constructed with shape (None, 1030, 8) for input KerasTensor(type_spec=TensorSpec(shape=(None, 1030, 8), dtype=tf.float32, name='dense_76_input'), name='dense_76_input', description=\"created by layer 'dense_76_input'\"), but it was called on an input with incompatible shape (None, 8).\n",
      "WARNING:tensorflow:Model was constructed with shape (None, 1030, 8) for input KerasTensor(type_spec=TensorSpec(shape=(None, 1030, 8), dtype=tf.float32, name='dense_76_input'), name='dense_76_input', description=\"created by layer 'dense_76_input'\"), but it was called on an input with incompatible shape (None, 8).\n",
      "WARNING:tensorflow:Model was constructed with shape (None, 1030, 8) for input KerasTensor(type_spec=TensorSpec(shape=(None, 1030, 8), dtype=tf.float32, name='dense_76_input'), name='dense_76_input', description=\"created by layer 'dense_76_input'\"), but it was called on an input with incompatible shape (None, 8).\n",
      "WARNING:tensorflow:Model was constructed with shape (None, 1030, 8) for input KerasTensor(type_spec=TensorSpec(shape=(None, 1030, 8), dtype=tf.float32, name='dense_78_input'), name='dense_78_input', description=\"created by layer 'dense_78_input'\"), but it was called on an input with incompatible shape (None, 8).\n",
      "WARNING:tensorflow:Model was constructed with shape (None, 1030, 8) for input KerasTensor(type_spec=TensorSpec(shape=(None, 1030, 8), dtype=tf.float32, name='dense_78_input'), name='dense_78_input', description=\"created by layer 'dense_78_input'\"), but it was called on an input with incompatible shape (None, 8).\n",
      "WARNING:tensorflow:Model was constructed with shape (None, 1030, 8) for input KerasTensor(type_spec=TensorSpec(shape=(None, 1030, 8), dtype=tf.float32, name='dense_78_input'), name='dense_78_input', description=\"created by layer 'dense_78_input'\"), but it was called on an input with incompatible shape (None, 8).\n",
      "WARNING:tensorflow:Model was constructed with shape (None, 1030, 8) for input KerasTensor(type_spec=TensorSpec(shape=(None, 1030, 8), dtype=tf.float32, name='dense_78_input'), name='dense_78_input', description=\"created by layer 'dense_78_input'\"), but it was called on an input with incompatible shape (None, 8).\n",
      "WARNING:tensorflow:Model was constructed with shape (None, 1030, 8) for input KerasTensor(type_spec=TensorSpec(shape=(None, 1030, 8), dtype=tf.float32, name='dense_80_input'), name='dense_80_input', description=\"created by layer 'dense_80_input'\"), but it was called on an input with incompatible shape (None, 8).\n",
      "WARNING:tensorflow:Model was constructed with shape (None, 1030, 8) for input KerasTensor(type_spec=TensorSpec(shape=(None, 1030, 8), dtype=tf.float32, name='dense_80_input'), name='dense_80_input', description=\"created by layer 'dense_80_input'\"), but it was called on an input with incompatible shape (None, 8).\n",
      "WARNING:tensorflow:Model was constructed with shape (None, 1030, 8) for input KerasTensor(type_spec=TensorSpec(shape=(None, 1030, 8), dtype=tf.float32, name='dense_80_input'), name='dense_80_input', description=\"created by layer 'dense_80_input'\"), but it was called on an input with incompatible shape (None, 8).\n",
      "WARNING:tensorflow:Model was constructed with shape (None, 1030, 8) for input KerasTensor(type_spec=TensorSpec(shape=(None, 1030, 8), dtype=tf.float32, name='dense_80_input'), name='dense_80_input', description=\"created by layer 'dense_80_input'\"), but it was called on an input with incompatible shape (None, 8).\n",
      "WARNING:tensorflow:Model was constructed with shape (None, 1030, 8) for input KerasTensor(type_spec=TensorSpec(shape=(None, 1030, 8), dtype=tf.float32, name='dense_82_input'), name='dense_82_input', description=\"created by layer 'dense_82_input'\"), but it was called on an input with incompatible shape (None, 8).\n",
      "WARNING:tensorflow:Model was constructed with shape (None, 1030, 8) for input KerasTensor(type_spec=TensorSpec(shape=(None, 1030, 8), dtype=tf.float32, name='dense_82_input'), name='dense_82_input', description=\"created by layer 'dense_82_input'\"), but it was called on an input with incompatible shape (None, 8).\n",
      "WARNING:tensorflow:Model was constructed with shape (None, 1030, 8) for input KerasTensor(type_spec=TensorSpec(shape=(None, 1030, 8), dtype=tf.float32, name='dense_82_input'), name='dense_82_input', description=\"created by layer 'dense_82_input'\"), but it was called on an input with incompatible shape (None, 8).\n",
      "WARNING:tensorflow:Model was constructed with shape (None, 1030, 8) for input KerasTensor(type_spec=TensorSpec(shape=(None, 1030, 8), dtype=tf.float32, name='dense_82_input'), name='dense_82_input', description=\"created by layer 'dense_82_input'\"), but it was called on an input with incompatible shape (None, 8).\n",
      "WARNING:tensorflow:Model was constructed with shape (None, 1030, 8) for input KerasTensor(type_spec=TensorSpec(shape=(None, 1030, 8), dtype=tf.float32, name='dense_84_input'), name='dense_84_input', description=\"created by layer 'dense_84_input'\"), but it was called on an input with incompatible shape (None, 8).\n",
      "WARNING:tensorflow:Model was constructed with shape (None, 1030, 8) for input KerasTensor(type_spec=TensorSpec(shape=(None, 1030, 8), dtype=tf.float32, name='dense_84_input'), name='dense_84_input', description=\"created by layer 'dense_84_input'\"), but it was called on an input with incompatible shape (None, 8).\n",
      "WARNING:tensorflow:Model was constructed with shape (None, 1030, 8) for input KerasTensor(type_spec=TensorSpec(shape=(None, 1030, 8), dtype=tf.float32, name='dense_84_input'), name='dense_84_input', description=\"created by layer 'dense_84_input'\"), but it was called on an input with incompatible shape (None, 8).\n",
      "WARNING:tensorflow:Model was constructed with shape (None, 1030, 8) for input KerasTensor(type_spec=TensorSpec(shape=(None, 1030, 8), dtype=tf.float32, name='dense_84_input'), name='dense_84_input', description=\"created by layer 'dense_84_input'\"), but it was called on an input with incompatible shape (None, 8).\n",
      "WARNING:tensorflow:Model was constructed with shape (None, 1030, 8) for input KerasTensor(type_spec=TensorSpec(shape=(None, 1030, 8), dtype=tf.float32, name='dense_86_input'), name='dense_86_input', description=\"created by layer 'dense_86_input'\"), but it was called on an input with incompatible shape (None, 8).\n",
      "WARNING:tensorflow:Model was constructed with shape (None, 1030, 8) for input KerasTensor(type_spec=TensorSpec(shape=(None, 1030, 8), dtype=tf.float32, name='dense_86_input'), name='dense_86_input', description=\"created by layer 'dense_86_input'\"), but it was called on an input with incompatible shape (None, 8).\n",
      "WARNING:tensorflow:Model was constructed with shape (None, 1030, 8) for input KerasTensor(type_spec=TensorSpec(shape=(None, 1030, 8), dtype=tf.float32, name='dense_86_input'), name='dense_86_input', description=\"created by layer 'dense_86_input'\"), but it was called on an input with incompatible shape (None, 8).\n",
      "WARNING:tensorflow:Model was constructed with shape (None, 1030, 8) for input KerasTensor(type_spec=TensorSpec(shape=(None, 1030, 8), dtype=tf.float32, name='dense_86_input'), name='dense_86_input', description=\"created by layer 'dense_86_input'\"), but it was called on an input with incompatible shape (None, 8).\n",
      "WARNING:tensorflow:Model was constructed with shape (None, 1030, 8) for input KerasTensor(type_spec=TensorSpec(shape=(None, 1030, 8), dtype=tf.float32, name='dense_88_input'), name='dense_88_input', description=\"created by layer 'dense_88_input'\"), but it was called on an input with incompatible shape (None, 8).\n",
      "WARNING:tensorflow:Model was constructed with shape (None, 1030, 8) for input KerasTensor(type_spec=TensorSpec(shape=(None, 1030, 8), dtype=tf.float32, name='dense_88_input'), name='dense_88_input', description=\"created by layer 'dense_88_input'\"), but it was called on an input with incompatible shape (None, 8).\n",
      "WARNING:tensorflow:Model was constructed with shape (None, 1030, 8) for input KerasTensor(type_spec=TensorSpec(shape=(None, 1030, 8), dtype=tf.float32, name='dense_88_input'), name='dense_88_input', description=\"created by layer 'dense_88_input'\"), but it was called on an input with incompatible shape (None, 8).\n",
      "WARNING:tensorflow:Model was constructed with shape (None, 1030, 8) for input KerasTensor(type_spec=TensorSpec(shape=(None, 1030, 8), dtype=tf.float32, name='dense_88_input'), name='dense_88_input', description=\"created by layer 'dense_88_input'\"), but it was called on an input with incompatible shape (None, 8).\n",
      "WARNING:tensorflow:Model was constructed with shape (None, 1030, 8) for input KerasTensor(type_spec=TensorSpec(shape=(None, 1030, 8), dtype=tf.float32, name='dense_90_input'), name='dense_90_input', description=\"created by layer 'dense_90_input'\"), but it was called on an input with incompatible shape (None, 8).\n",
      "WARNING:tensorflow:Model was constructed with shape (None, 1030, 8) for input KerasTensor(type_spec=TensorSpec(shape=(None, 1030, 8), dtype=tf.float32, name='dense_90_input'), name='dense_90_input', description=\"created by layer 'dense_90_input'\"), but it was called on an input with incompatible shape (None, 8).\n",
      "WARNING:tensorflow:Model was constructed with shape (None, 1030, 8) for input KerasTensor(type_spec=TensorSpec(shape=(None, 1030, 8), dtype=tf.float32, name='dense_90_input'), name='dense_90_input', description=\"created by layer 'dense_90_input'\"), but it was called on an input with incompatible shape (None, 8).\n",
      "WARNING:tensorflow:Model was constructed with shape (None, 1030, 8) for input KerasTensor(type_spec=TensorSpec(shape=(None, 1030, 8), dtype=tf.float32, name='dense_90_input'), name='dense_90_input', description=\"created by layer 'dense_90_input'\"), but it was called on an input with incompatible shape (None, 8).\n",
      "WARNING:tensorflow:Model was constructed with shape (None, 1030, 8) for input KerasTensor(type_spec=TensorSpec(shape=(None, 1030, 8), dtype=tf.float32, name='dense_92_input'), name='dense_92_input', description=\"created by layer 'dense_92_input'\"), but it was called on an input with incompatible shape (None, 8).\n",
      "WARNING:tensorflow:Model was constructed with shape (None, 1030, 8) for input KerasTensor(type_spec=TensorSpec(shape=(None, 1030, 8), dtype=tf.float32, name='dense_92_input'), name='dense_92_input', description=\"created by layer 'dense_92_input'\"), but it was called on an input with incompatible shape (None, 8).\n",
      "WARNING:tensorflow:Model was constructed with shape (None, 1030, 8) for input KerasTensor(type_spec=TensorSpec(shape=(None, 1030, 8), dtype=tf.float32, name='dense_92_input'), name='dense_92_input', description=\"created by layer 'dense_92_input'\"), but it was called on an input with incompatible shape (None, 8).\n",
      "WARNING:tensorflow:Model was constructed with shape (None, 1030, 8) for input KerasTensor(type_spec=TensorSpec(shape=(None, 1030, 8), dtype=tf.float32, name='dense_92_input'), name='dense_92_input', description=\"created by layer 'dense_92_input'\"), but it was called on an input with incompatible shape (None, 8).\n",
      "WARNING:tensorflow:Model was constructed with shape (None, 1030, 8) for input KerasTensor(type_spec=TensorSpec(shape=(None, 1030, 8), dtype=tf.float32, name='dense_94_input'), name='dense_94_input', description=\"created by layer 'dense_94_input'\"), but it was called on an input with incompatible shape (None, 8).\n",
      "WARNING:tensorflow:Model was constructed with shape (None, 1030, 8) for input KerasTensor(type_spec=TensorSpec(shape=(None, 1030, 8), dtype=tf.float32, name='dense_94_input'), name='dense_94_input', description=\"created by layer 'dense_94_input'\"), but it was called on an input with incompatible shape (None, 8).\n",
      "WARNING:tensorflow:Model was constructed with shape (None, 1030, 8) for input KerasTensor(type_spec=TensorSpec(shape=(None, 1030, 8), dtype=tf.float32, name='dense_94_input'), name='dense_94_input', description=\"created by layer 'dense_94_input'\"), but it was called on an input with incompatible shape (None, 8).\n",
      "WARNING:tensorflow:Model was constructed with shape (None, 1030, 8) for input KerasTensor(type_spec=TensorSpec(shape=(None, 1030, 8), dtype=tf.float32, name='dense_94_input'), name='dense_94_input', description=\"created by layer 'dense_94_input'\"), but it was called on an input with incompatible shape (None, 8).\n",
      "WARNING:tensorflow:Model was constructed with shape (None, 1030, 8) for input KerasTensor(type_spec=TensorSpec(shape=(None, 1030, 8), dtype=tf.float32, name='dense_96_input'), name='dense_96_input', description=\"created by layer 'dense_96_input'\"), but it was called on an input with incompatible shape (None, 8).\n",
      "WARNING:tensorflow:Model was constructed with shape (None, 1030, 8) for input KerasTensor(type_spec=TensorSpec(shape=(None, 1030, 8), dtype=tf.float32, name='dense_96_input'), name='dense_96_input', description=\"created by layer 'dense_96_input'\"), but it was called on an input with incompatible shape (None, 8).\n",
      "WARNING:tensorflow:Model was constructed with shape (None, 1030, 8) for input KerasTensor(type_spec=TensorSpec(shape=(None, 1030, 8), dtype=tf.float32, name='dense_96_input'), name='dense_96_input', description=\"created by layer 'dense_96_input'\"), but it was called on an input with incompatible shape (None, 8).\n",
      "WARNING:tensorflow:Model was constructed with shape (None, 1030, 8) for input KerasTensor(type_spec=TensorSpec(shape=(None, 1030, 8), dtype=tf.float32, name='dense_96_input'), name='dense_96_input', description=\"created by layer 'dense_96_input'\"), but it was called on an input with incompatible shape (None, 8).\n",
      "WARNING:tensorflow:Model was constructed with shape (None, 1030, 8) for input KerasTensor(type_spec=TensorSpec(shape=(None, 1030, 8), dtype=tf.float32, name='dense_98_input'), name='dense_98_input', description=\"created by layer 'dense_98_input'\"), but it was called on an input with incompatible shape (None, 8).\n",
      "WARNING:tensorflow:Model was constructed with shape (None, 1030, 8) for input KerasTensor(type_spec=TensorSpec(shape=(None, 1030, 8), dtype=tf.float32, name='dense_98_input'), name='dense_98_input', description=\"created by layer 'dense_98_input'\"), but it was called on an input with incompatible shape (None, 8).\n",
      "WARNING:tensorflow:Model was constructed with shape (None, 1030, 8) for input KerasTensor(type_spec=TensorSpec(shape=(None, 1030, 8), dtype=tf.float32, name='dense_98_input'), name='dense_98_input', description=\"created by layer 'dense_98_input'\"), but it was called on an input with incompatible shape (None, 8).\n",
      "WARNING:tensorflow:Model was constructed with shape (None, 1030, 8) for input KerasTensor(type_spec=TensorSpec(shape=(None, 1030, 8), dtype=tf.float32, name='dense_98_input'), name='dense_98_input', description=\"created by layer 'dense_98_input'\"), but it was called on an input with incompatible shape (None, 8).\n",
      "WARNING:tensorflow:Model was constructed with shape (None, 1030, 8) for input KerasTensor(type_spec=TensorSpec(shape=(None, 1030, 8), dtype=tf.float32, name='dense_100_input'), name='dense_100_input', description=\"created by layer 'dense_100_input'\"), but it was called on an input with incompatible shape (None, 8).\n",
      "WARNING:tensorflow:Model was constructed with shape (None, 1030, 8) for input KerasTensor(type_spec=TensorSpec(shape=(None, 1030, 8), dtype=tf.float32, name='dense_100_input'), name='dense_100_input', description=\"created by layer 'dense_100_input'\"), but it was called on an input with incompatible shape (None, 8).\n",
      "WARNING:tensorflow:Model was constructed with shape (None, 1030, 8) for input KerasTensor(type_spec=TensorSpec(shape=(None, 1030, 8), dtype=tf.float32, name='dense_100_input'), name='dense_100_input', description=\"created by layer 'dense_100_input'\"), but it was called on an input with incompatible shape (None, 8).\n",
      "WARNING:tensorflow:Model was constructed with shape (None, 1030, 8) for input KerasTensor(type_spec=TensorSpec(shape=(None, 1030, 8), dtype=tf.float32, name='dense_100_input'), name='dense_100_input', description=\"created by layer 'dense_100_input'\"), but it was called on an input with incompatible shape (None, 8).\n"
     ]
    }
   ],
   "source": [
    "# Repeat this process 50 times.\n",
    "\n",
    "mean_score_errors = [];\n",
    "\n",
    "for x in range(50):\n",
    "    predictors_train, predictors_test, target_train, target_test = train_test_split(predictors, target, test_size=0.3)\n",
    "    \n",
    "    def regression_model():\n",
    "    # create the model\n",
    "        model = Sequential()\n",
    "        model.add(Dense(10, activation='relu', input_shape=(1030, 8)))\n",
    "        model.add(Dense(1))\n",
    "    \n",
    "    # compile the model\n",
    "        model.compile(optimizer='adam', loss='mean_squared_error')\n",
    "        return model\n",
    "\n",
    "    model = regression_model()\n",
    "    \n",
    "    model.fit(predictors_train, target_train, validation_data=(predictors_test, target_test), epochs=50, verbose=0)\n",
    "    \n",
    "    predictions = model.predict(predictors_test)\n",
    "    \n",
    "    MSE = mean_squared_error(target_test,predictions)\n",
    "    \n",
    "    mean_score_errors.append(MSE)"
   ]
  },
  {
   "cell_type": "code",
   "execution_count": 15,
   "id": "362c56d6",
   "metadata": {},
   "outputs": [
    {
     "name": "stdout",
     "output_type": "stream",
     "text": [
      "[522.3326036096211, 80.74534002096428, 86.33833375574535, 386.60103732081757, 160.86038089606353, 116.96910251674151, 1561.985029731985, 931.3025623698614, 164.76596263653835, 256.48511554523435, 429.93713526999574, 232.58645252898603, 231.41488101680147, 120.35475860069717, 160.1582902053094, 144.04961764319376, 1589.8012760914087, 447.29354673893187, 137.2767855245602, 155.97461087210758, 199.8061556799517, 164.17993254383967, 94.04329012761802, 246.27299141385515, 144.07754324673368, 236.52718337533224, 126.23146369521125, 247.75535719133435, 844.1341150810259, 105.59406567661367, 94.79870313389223, 113.80721990732282, 115.08741998784959, 131.12611330854318, 227.96434406256392, 201.95936653636977, 359.02073028125807, 103.75305055813898, 299.0850894378402, 123.0866079407691, 123.74090749452444, 343.8841505915014, 383.09215936196864, 980.3887351580457, 116.72083896429118, 114.76530039472323, 1452.8632178090604, 297.1424787055759, 131.6325369028861, 140.6701857957119]\n"
     ]
    }
   ],
   "source": [
    "# Double check our code is working above by printing out the 50 predictions of our mean score errors.\n",
    "print(mean_score_errors)"
   ]
  },
  {
   "cell_type": "code",
   "execution_count": 16,
   "id": "888d45e7",
   "metadata": {},
   "outputs": [
    {
     "name": "stdout",
     "output_type": "stream",
     "text": [
      "The mean of our mean scores for this model run is 323.61\n",
      "The standard deviation of our mean scores for this model run is 365.29\n"
     ]
    }
   ],
   "source": [
    "# Lastly, we can get the mean and standard deviation of these mean_score_errors.\n",
    "mean = np.mean(mean_score_errors)\n",
    "standard_deviation = np.std(mean_score_errors)\n",
    "\n",
    "print('The mean of our mean scores for this model run is',round(mean,2))\n",
    "print('The standard deviation of our mean scores for this model run is', round(standard_deviation,2))"
   ]
  },
  {
   "cell_type": "markdown",
   "id": "2515d3b7",
   "metadata": {},
   "source": [
    "### Task B: Normalize the data."
   ]
  },
  {
   "cell_type": "code",
   "execution_count": 17,
   "id": "46d880c4",
   "metadata": {},
   "outputs": [
    {
     "data": {
      "text/html": [
       "<div>\n",
       "<style scoped>\n",
       "    .dataframe tbody tr th:only-of-type {\n",
       "        vertical-align: middle;\n",
       "    }\n",
       "\n",
       "    .dataframe tbody tr th {\n",
       "        vertical-align: top;\n",
       "    }\n",
       "\n",
       "    .dataframe thead th {\n",
       "        text-align: right;\n",
       "    }\n",
       "</style>\n",
       "<table border=\"1\" class=\"dataframe\">\n",
       "  <thead>\n",
       "    <tr style=\"text-align: right;\">\n",
       "      <th></th>\n",
       "      <th>Cement</th>\n",
       "      <th>Blast Furnace Slag</th>\n",
       "      <th>Fly Ash</th>\n",
       "      <th>Water</th>\n",
       "      <th>Superplasticizer</th>\n",
       "      <th>Coarse Aggregate</th>\n",
       "      <th>Fine Aggregate</th>\n",
       "      <th>Age</th>\n",
       "    </tr>\n",
       "  </thead>\n",
       "  <tbody>\n",
       "    <tr>\n",
       "      <th>0</th>\n",
       "      <td>2.476712</td>\n",
       "      <td>-0.856472</td>\n",
       "      <td>-0.846733</td>\n",
       "      <td>-0.916319</td>\n",
       "      <td>-0.620147</td>\n",
       "      <td>0.862735</td>\n",
       "      <td>-1.217079</td>\n",
       "      <td>-0.279597</td>\n",
       "    </tr>\n",
       "    <tr>\n",
       "      <th>1</th>\n",
       "      <td>2.476712</td>\n",
       "      <td>-0.856472</td>\n",
       "      <td>-0.846733</td>\n",
       "      <td>-0.916319</td>\n",
       "      <td>-0.620147</td>\n",
       "      <td>1.055651</td>\n",
       "      <td>-1.217079</td>\n",
       "      <td>-0.279597</td>\n",
       "    </tr>\n",
       "    <tr>\n",
       "      <th>2</th>\n",
       "      <td>0.491187</td>\n",
       "      <td>0.795140</td>\n",
       "      <td>-0.846733</td>\n",
       "      <td>2.174405</td>\n",
       "      <td>-1.038638</td>\n",
       "      <td>-0.526262</td>\n",
       "      <td>-2.239829</td>\n",
       "      <td>3.551340</td>\n",
       "    </tr>\n",
       "    <tr>\n",
       "      <th>3</th>\n",
       "      <td>0.491187</td>\n",
       "      <td>0.795140</td>\n",
       "      <td>-0.846733</td>\n",
       "      <td>2.174405</td>\n",
       "      <td>-1.038638</td>\n",
       "      <td>-0.526262</td>\n",
       "      <td>-2.239829</td>\n",
       "      <td>5.055221</td>\n",
       "    </tr>\n",
       "    <tr>\n",
       "      <th>4</th>\n",
       "      <td>-0.790075</td>\n",
       "      <td>0.678079</td>\n",
       "      <td>-0.846733</td>\n",
       "      <td>0.488555</td>\n",
       "      <td>-1.038638</td>\n",
       "      <td>0.070492</td>\n",
       "      <td>0.647569</td>\n",
       "      <td>4.976069</td>\n",
       "    </tr>\n",
       "  </tbody>\n",
       "</table>\n",
       "</div>"
      ],
      "text/plain": [
       "     Cement  Blast Furnace Slag   Fly Ash     Water  Superplasticizer  \\\n",
       "0  2.476712           -0.856472 -0.846733 -0.916319         -0.620147   \n",
       "1  2.476712           -0.856472 -0.846733 -0.916319         -0.620147   \n",
       "2  0.491187            0.795140 -0.846733  2.174405         -1.038638   \n",
       "3  0.491187            0.795140 -0.846733  2.174405         -1.038638   \n",
       "4 -0.790075            0.678079 -0.846733  0.488555         -1.038638   \n",
       "\n",
       "   Coarse Aggregate  Fine Aggregate       Age  \n",
       "0          0.862735       -1.217079 -0.279597  \n",
       "1          1.055651       -1.217079 -0.279597  \n",
       "2         -0.526262       -2.239829  3.551340  \n",
       "3         -0.526262       -2.239829  5.055221  \n",
       "4          0.070492        0.647569  4.976069  "
      ]
     },
     "execution_count": 17,
     "metadata": {},
     "output_type": "execute_result"
    }
   ],
   "source": [
    "# Here, we are normalising our predictive data values.\n",
    "predictors_norm = (predictors - predictors.mean()) / predictors.std()\n",
    "predictors_norm.head()"
   ]
  },
  {
   "cell_type": "code",
   "execution_count": 18,
   "id": "93f0341c",
   "metadata": {},
   "outputs": [],
   "source": [
    "# And then saving these normalized values to be used as our predicitive inputs.\n",
    "n_cols = predictors_norm.shape[1]"
   ]
  },
  {
   "cell_type": "code",
   "execution_count": 19,
   "id": "489853eb",
   "metadata": {},
   "outputs": [],
   "source": [
    "# Again,let's randomly split the data into a training and test sets by holding 30% of the data for testing\n",
    "predictors_norm_train, predictors_norm_test, target_train, target_test = train_test_split(predictors_norm, target, test_size=0.3)"
   ]
  },
  {
   "cell_type": "code",
   "execution_count": 20,
   "id": "09d214f6",
   "metadata": {},
   "outputs": [],
   "source": [
    "# Let's redefine our regression model to input these normalized values.\n",
    "\n",
    "def regression_model():\n",
    "    # create the model\n",
    "    model = Sequential()\n",
    "    model.add(Dense(10, activation='relu', input_shape=(n_cols,)))\n",
    "    model.add(Dense(1))\n",
    "    \n",
    "    # compile the model\n",
    "    model.compile(optimizer='adam', loss='mean_squared_error')\n",
    "    return model"
   ]
  },
  {
   "cell_type": "code",
   "execution_count": 21,
   "id": "11be5744",
   "metadata": {},
   "outputs": [],
   "source": [
    "# Again, we then build the model\n",
    "model = regression_model()"
   ]
  },
  {
   "cell_type": "code",
   "execution_count": 22,
   "id": "d9020c73",
   "metadata": {},
   "outputs": [
    {
     "data": {
      "text/plain": [
       "<keras.callbacks.History at 0x2a3b2ee8a60>"
      ]
     },
     "execution_count": 22,
     "metadata": {},
     "output_type": "execute_result"
    }
   ],
   "source": [
    "# And refit the model to our dataset\n",
    "model.fit(predictors_norm_train, target_train, validation_data=(predictors_norm_test, target_test), epochs=50, verbose=0)"
   ]
  },
  {
   "cell_type": "code",
   "execution_count": 23,
   "id": "50bdf785",
   "metadata": {},
   "outputs": [],
   "source": [
    "# We can once again then get our models predictions.\n",
    "predictions = model.predict(predictors_norm_test)"
   ]
  },
  {
   "cell_type": "code",
   "execution_count": 24,
   "id": "ea851902",
   "metadata": {},
   "outputs": [
    {
     "name": "stdout",
     "output_type": "stream",
     "text": [
      "MSE 214.14413842526332\n"
     ]
    }
   ],
   "source": [
    "# And use these to evaluate the model on our test data.\n",
    "# Which can be done by computing the mean squared error between the predicted concrete strength and the actual concrete strength.\n",
    "print(\"MSE\",mean_squared_error(target_test,predictions))"
   ]
  },
  {
   "cell_type": "code",
   "execution_count": 25,
   "id": "75c06d53",
   "metadata": {},
   "outputs": [],
   "source": [
    "# Repeat this process 50 times.\n",
    "\n",
    "mean_score_errors = [];\n",
    "\n",
    "for x in range(50):\n",
    "    predictors_norm_train, predictors_norm_test, target_train, target_test = train_test_split(predictors_norm, target, test_size=0.3)\n",
    "    \n",
    "    def regression_model():\n",
    "    # create the model\n",
    "        model = Sequential()\n",
    "        model.add(Dense(10, activation='relu', input_shape=(n_cols,)))\n",
    "        model.add(Dense(1))\n",
    "    \n",
    "    # compile the model\n",
    "        model.compile(optimizer='adam', loss='mean_squared_error')\n",
    "        return model\n",
    "\n",
    "    model = regression_model()\n",
    "    \n",
    "    model.fit(predictors_norm_train, target_train, validation_data=(predictors_norm_test, target_test), epochs=50, verbose=0)\n",
    "    \n",
    "    predictions = model.predict(predictors_norm_test)\n",
    "    \n",
    "    MSE = mean_squared_error(target_test,predictions)\n",
    "    \n",
    "    mean_score_errors.append(MSE)"
   ]
  },
  {
   "cell_type": "code",
   "execution_count": 26,
   "id": "5e35fa20",
   "metadata": {},
   "outputs": [
    {
     "name": "stdout",
     "output_type": "stream",
     "text": [
      "[349.1155358480468, 355.61934117319436, 376.5505361368387, 389.87395090581805, 455.92184645159654, 422.93985393753917, 439.79775607017166, 320.3448581426603, 324.64000808964545, 400.6952897161751, 284.3272805278559, 434.7580465378251, 231.5801002542757, 339.7263059417422, 291.7521241092784, 451.4384539521991, 368.0805415134705, 265.8389741895084, 264.0129477955643, 379.6845317823849, 381.47416118539167, 248.0698005493484, 420.80355091557374, 418.67528060903146, 371.8804295751895, 315.36921212899387, 320.1693912939049, 368.08099948594025, 479.7681001957414, 523.9355934227037, 317.4614051792725, 292.05217404854864, 325.03750608709953, 329.16814473611925, 264.7307028706745, 311.81406323553875, 338.30338670895094, 419.75100641303936, 621.517514014432, 293.22420573526773, 357.04637789688644, 468.6649362633969, 365.09967685012685, 322.8988446104362, 358.37240506730217, 376.54993203207385, 362.78244208983256, 302.1125596818194, 372.7743815595541, 453.7206134339145]\n"
     ]
    }
   ],
   "source": [
    "# Again, let's double check our code is working above by printing out the 50 predictions of our mean score errors.\n",
    "print(mean_score_errors)"
   ]
  },
  {
   "cell_type": "code",
   "execution_count": 27,
   "id": "a02991fe",
   "metadata": {},
   "outputs": [
    {
     "name": "stdout",
     "output_type": "stream",
     "text": [
      "The mean of our mean scores for this model run is 364.96\n",
      "The standard deviation of our mean scores for this model run is 73.71\n"
     ]
    }
   ],
   "source": [
    "# Then finally, we can get the mean and standard deviation of these mean_score_errors.\n",
    "mean = np.mean(mean_score_errors)\n",
    "standard_deviation = np.std(mean_score_errors)\n",
    "\n",
    "print('The mean of our mean scores for this model run is',round(mean,2))\n",
    "print('The standard deviation of our mean scores for this model run is', round(standard_deviation,2))"
   ]
  },
  {
   "cell_type": "markdown",
   "id": "31c0b188",
   "metadata": {},
   "source": [
    "#### The mean of the mean score errors is not affected by normalizing our data, and so remains at the same level as in part A."
   ]
  },
  {
   "cell_type": "markdown",
   "id": "4945b6b2",
   "metadata": {},
   "source": [
    "### Task C: Increate the number of epochs"
   ]
  },
  {
   "cell_type": "code",
   "execution_count": 28,
   "id": "b7db744c",
   "metadata": {},
   "outputs": [],
   "source": [
    "# For part C, let's redefine our regression model so that it is running through 100 epochs for training.\n",
    "\n",
    "# Let's define our model.\n",
    "\n",
    "def regression_model():\n",
    "    model = Sequential()\n",
    "    model.add(Dense(10, activation='relu', input_shape=(n_cols,)))\n",
    "    model.add(Dense(1))\n",
    "    \n",
    "    model.compile(optimizer='adam', loss='mean_squared_error')\n",
    "    return model"
   ]
  },
  {
   "cell_type": "code",
   "execution_count": 29,
   "id": "b5310db8",
   "metadata": {},
   "outputs": [],
   "source": [
    "# Again, we can now then build this model\n",
    "model = regression_model()"
   ]
  },
  {
   "cell_type": "code",
   "execution_count": 30,
   "id": "0f13e707",
   "metadata": {},
   "outputs": [
    {
     "data": {
      "text/plain": [
       "<keras.callbacks.History at 0x2a3b4117520>"
      ]
     },
     "execution_count": 30,
     "metadata": {},
     "output_type": "execute_result"
    }
   ],
   "source": [
    "# And then we can refit the model to our dataset, ensuring that it is running through the 100 epochs.\n",
    "model.fit(predictors_norm_train, target_train, validation_data=(predictors_norm_test, target_test), epochs=100, verbose=0)"
   ]
  },
  {
   "cell_type": "code",
   "execution_count": 31,
   "id": "b0f7a924",
   "metadata": {},
   "outputs": [],
   "source": [
    "# Again, here we can once again then get our models predictions.\n",
    "predictions = model.predict(predictors_norm_test)"
   ]
  },
  {
   "cell_type": "code",
   "execution_count": 32,
   "id": "c5006ede",
   "metadata": {},
   "outputs": [
    {
     "name": "stdout",
     "output_type": "stream",
     "text": [
      "MSE 196.5682045764563\n"
     ]
    }
   ],
   "source": [
    "# And use these to evaluate the model on our test data.\n",
    "# Which can be done by computing the mean squared error between the predicted concrete strength and the actual concrete strength.\n",
    "print(\"MSE\",mean_squared_error(target_test,predictions))"
   ]
  },
  {
   "cell_type": "code",
   "execution_count": 33,
   "id": "65465651",
   "metadata": {},
   "outputs": [],
   "source": [
    "# Repeat this process 50 times.\n",
    "\n",
    "mean_score_errors = [];\n",
    "\n",
    "for x in range(50):\n",
    "    predictors_norm_train, predictors_norm_test, target_train, target_test = train_test_split(predictors_norm, target, test_size=0.3)\n",
    "    \n",
    "    def regression_model():\n",
    "    # create the model\n",
    "        model = Sequential()\n",
    "        model.add(Dense(10, activation='relu', input_shape=(n_cols,)))\n",
    "        model.add(Dense(1))\n",
    "    \n",
    "    # compile the model\n",
    "        model.compile(optimizer='adam', loss='mean_squared_error')\n",
    "        return model\n",
    "\n",
    "    model = regression_model()\n",
    "    \n",
    "    model.fit(predictors_norm_train, target_train, validation_data=(predictors_norm_test, target_test), epochs=100, verbose=0)\n",
    "    \n",
    "    predictions = model.predict(predictors_norm_test)\n",
    "    \n",
    "    MSE = mean_squared_error(target_test,predictions)\n",
    "    \n",
    "    mean_score_errors.append(MSE)"
   ]
  },
  {
   "cell_type": "code",
   "execution_count": 34,
   "id": "24e1ca48",
   "metadata": {},
   "outputs": [
    {
     "name": "stdout",
     "output_type": "stream",
     "text": [
      "[158.440680352764, 171.54459472105145, 224.29141300358256, 196.06879710892667, 174.97626435253474, 175.21345489270257, 146.94718219076458, 172.12151538941953, 135.47429834505635, 151.74820664479353, 152.34759982638548, 162.15653651984937, 162.10804595721066, 192.48230407735656, 166.82624866264212, 161.9628671135814, 168.01676428987034, 164.5457745577553, 194.94111125178384, 197.9372871473336, 156.90330290876952, 172.90554004548358, 156.6508078987678, 177.05906365470426, 141.4349006461429, 165.45850632221178, 154.81391755707395, 189.81724516049465, 166.7380601631154, 169.2393303661847, 141.4351539051077, 204.8402521255117, 162.9797424754462, 175.1908515805349, 161.00231258514933, 163.8580103158644, 184.83069225661802, 159.05030738644822, 200.7911128893981, 137.11537957595516, 144.785319790556, 187.96590373755322, 155.2395196194417, 177.80065533739764, 234.39962895153712, 140.48355827016496, 183.49948970342385, 161.91370998076877, 137.2261985196225, 179.17806048020492]\n"
     ]
    }
   ],
   "source": [
    "# Again, let's double check our code is working above by printing out the 50 predictions of our mean score errors.\n",
    "print(mean_score_errors)"
   ]
  },
  {
   "cell_type": "code",
   "execution_count": 35,
   "id": "4827db95",
   "metadata": {},
   "outputs": [
    {
     "name": "stdout",
     "output_type": "stream",
     "text": [
      "The mean of our mean scores for this model run is 169.5\n",
      "The standard deviation of our mean scores for this model run is 21.19\n"
     ]
    }
   ],
   "source": [
    "# Then finally, we can get the mean and standard deviation of these mean_score_errors.\n",
    "mean = np.mean(mean_score_errors)\n",
    "standard_deviation = np.std(mean_score_errors)\n",
    "\n",
    "print('The mean of our mean scores for this model run is',round(mean,2))\n",
    "print('The standard deviation of our mean scores for this model run is', round(standard_deviation,2))"
   ]
  },
  {
   "cell_type": "markdown",
   "id": "e4082e38",
   "metadata": {},
   "source": [
    "#### The mean of the mean score errors is lowered by increating the number of epochs, and so the mean of the mean scores errors is lower for part C than it is for part B."
   ]
  },
  {
   "cell_type": "markdown",
   "id": "6ab01077",
   "metadata": {},
   "source": [
    "### Task D: Increase the number of hidden layers"
   ]
  },
  {
   "cell_type": "code",
   "execution_count": 36,
   "id": "78672a55",
   "metadata": {},
   "outputs": [],
   "source": [
    "# For part D, let's redefine our regression model so that it is running through a model that has \n",
    "# three hidden layers, each of 10 nodes and ReLU activation function.\n",
    "\n",
    "# Let's define this model.\n",
    "\n",
    "def regression_model():\n",
    "    model = Sequential()\n",
    "    model.add(Dense(10, activation='relu', input_shape=(n_cols,)))\n",
    "    model.add(Dense(10, activation='relu'))\n",
    "    model.add(Dense(10, activation='relu'))\n",
    "    model.add(Dense(1))\n",
    "    \n",
    "    model.compile(optimizer='adam', loss='mean_squared_error')\n",
    "    return model"
   ]
  },
  {
   "cell_type": "code",
   "execution_count": 37,
   "id": "171756fe",
   "metadata": {},
   "outputs": [],
   "source": [
    "# Again, we can now then build this model\n",
    "model = regression_model()"
   ]
  },
  {
   "cell_type": "code",
   "execution_count": 38,
   "id": "b9bccae9",
   "metadata": {},
   "outputs": [
    {
     "data": {
      "text/plain": [
       "<keras.callbacks.History at 0x2a3b42a6130>"
      ]
     },
     "execution_count": 38,
     "metadata": {},
     "output_type": "execute_result"
    }
   ],
   "source": [
    "# And then we can refit the model to our dataset.\n",
    "model.fit(predictors_norm_train, target_train, validation_data=(predictors_norm_test, target_test), epochs=50, verbose=0)"
   ]
  },
  {
   "cell_type": "code",
   "execution_count": 39,
   "id": "ce793e28",
   "metadata": {},
   "outputs": [],
   "source": [
    "# finally, here we can then extract our models predictions.\n",
    "predictions = model.predict(predictors_norm_test)"
   ]
  },
  {
   "cell_type": "code",
   "execution_count": 40,
   "id": "af16086d",
   "metadata": {},
   "outputs": [
    {
     "name": "stdout",
     "output_type": "stream",
     "text": [
      "MSE 147.93667068568658\n"
     ]
    }
   ],
   "source": [
    "# And use these to evaluate the model on our test data.\n",
    "# Which can be done by computing the mean squared error between the predicted concrete strength and the actual concrete strength.\n",
    "print(\"MSE\",mean_squared_error(target_test,predictions))"
   ]
  },
  {
   "cell_type": "code",
   "execution_count": 41,
   "id": "5c133acd",
   "metadata": {},
   "outputs": [],
   "source": [
    "# Repeat this process 50 times.\n",
    "\n",
    "mean_score_errors = [];\n",
    "\n",
    "for x in range(50):\n",
    "    predictors_norm_train, predictors_norm_test, target_train, target_test = train_test_split(predictors_norm, target, test_size=0.3)\n",
    "    \n",
    "    def regression_model():\n",
    "        model = Sequential()\n",
    "        model.add(Dense(10, activation='relu', input_shape=(n_cols,)))\n",
    "        model.add(Dense(10, activation='relu'))\n",
    "        model.add(Dense(10, activation='relu'))\n",
    "        model.add(Dense(1))\n",
    "    \n",
    "        model.compile(optimizer='adam', loss='mean_squared_error')\n",
    "        return model\n",
    "\n",
    "    model = regression_model()\n",
    "    \n",
    "    model.fit(predictors_norm_train, target_train, validation_data=(predictors_norm_test, target_test), epochs=50, verbose=0)\n",
    "    \n",
    "    predictions = model.predict(predictors_norm_test)\n",
    "    \n",
    "    MSE = mean_squared_error(target_test,predictions)\n",
    "    \n",
    "    mean_score_errors.append(MSE)"
   ]
  },
  {
   "cell_type": "code",
   "execution_count": 42,
   "id": "2ee2af48",
   "metadata": {},
   "outputs": [
    {
     "name": "stdout",
     "output_type": "stream",
     "text": [
      "The mean of our mean scores for this model run is 128.08\n",
      "The standard deviation of our mean scores for this model run is 16.51\n"
     ]
    }
   ],
   "source": [
    "# And then lastly, we can get the mean and standard deviation of these mean_score_errors.\n",
    "mean = np.mean(mean_score_errors)\n",
    "standard_deviation = np.std(mean_score_errors)\n",
    "\n",
    "print('The mean of our mean scores for this model run is',round(mean,2))\n",
    "print('The standard deviation of our mean scores for this model run is', round(standard_deviation,2))"
   ]
  },
  {
   "cell_type": "markdown",
   "id": "d560cd73",
   "metadata": {},
   "source": [
    "#### Again, typically but not always: the mean of the mean score errors is lowered by increasing the number of hidden layers in a model, and so the mean of the mean scores errors is lower for part D than it is for part B."
   ]
  },
  {
   "cell_type": "code",
   "execution_count": null,
   "id": "c30a0d08",
   "metadata": {},
   "outputs": [],
   "source": []
  }
 ],
 "metadata": {
  "kernelspec": {
   "display_name": "Python 3 (ipykernel)",
   "language": "python",
   "name": "python3"
  },
  "language_info": {
   "codemirror_mode": {
    "name": "ipython",
    "version": 3
   },
   "file_extension": ".py",
   "mimetype": "text/x-python",
   "name": "python",
   "nbconvert_exporter": "python",
   "pygments_lexer": "ipython3",
   "version": "3.9.7"
  }
 },
 "nbformat": 4,
 "nbformat_minor": 5
}
